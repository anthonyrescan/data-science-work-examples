{
 "cells": [
  {
   "cell_type": "markdown",
   "metadata": {},
   "source": [
    "# Project"
   ]
  },
  {
   "cell_type": "markdown",
   "metadata": {},
   "source": [
    "Import necessary packages for the model."
   ]
  },
  {
   "cell_type": "code",
   "execution_count": 27,
   "metadata": {},
   "outputs": [],
   "source": [
    "import warnings\n",
    "warnings.filterwarnings(\"ignore\", category=DeprecationWarning) \n",
    "import pandas as pd \n",
    "import numpy as np\n",
    "import requests\n",
    "import matplotlib.pyplot as plt\n",
    "import io\n",
    "from sklearn.model_selection import train_test_split, GridSearchCV, cross_val_score, ParameterGrid, RandomizedSearchCV\n",
    "from sklearn.linear_model import LogisticRegression, SGDClassifier\n",
    "from sklearn.metrics import roc_curve, auc, roc_auc_score, log_loss, accuracy_score, f1_score, confusion_matrix, precision_score, recall_score, classification_report\n",
    "from sklearn.preprocessing import StandardScaler\n",
    "from sklearn.ensemble import RandomForestClassifier\n",
    "from sklearn.feature_selection import RFECV\n",
    "import parfit.parfit as pf\n",
    "import time\n",
    "import dill"
   ]
  },
  {
   "cell_type": "markdown",
   "metadata": {},
   "source": [
    "Use requests and read_csv to pull data into a Pandas DataFrame."
   ]
  },
  {
   "cell_type": "code",
   "execution_count": 2,
   "metadata": {},
   "outputs": [],
   "source": [
    "url=('https://www.dropbox.com/s/00gouxpr9bueb7t/PitchData_v2.csv?dl=1')\n",
    "resp = requests.get(url).content\n",
    "raw_data = pd.read_csv(io.StringIO(resp.decode('utf-8')), na_values = ['NULL'])\n",
    "raw_data.columns = map(str.lower, raw_data.columns)"
   ]
  },
  {
   "cell_type": "markdown",
   "metadata": {},
   "source": [
    "Formatting the data for usage in the model. I'm binarizing all of the categorical data and filtering through the outcomes. For this model, I'm just using swings. I found that adding the batter's decision to swing added too much uncertainty to reliably predict anything. Rather, I'm trying to predict if he missed with his decided on swing."
   ]
  },
  {
   "cell_type": "code",
   "execution_count": 3,
   "metadata": {},
   "outputs": [
    {
     "name": "stdout",
     "output_type": "stream",
     "text": [
      "Ball              166008\n",
      "Foul               90735\n",
      "CalledStrike       89109\n",
      "InPlay             87772\n",
      "SwingingStrike     41723\n",
      "BlockedBall         7284\n",
      "FoulTip             4368\n",
      "SwingStrikeBlk      2215\n",
      "FoulBunt            1682\n",
      "HitByPitch          1212\n",
      "MissedBunt           308\n",
      "FoulTipBunt           34\n",
      "Pitchout               3\n",
      "SwingPitchout          3\n",
      "Name: pitchresult, dtype: int64\n"
     ]
    }
   ],
   "source": [
    "print(raw_data.pitchresult.value_counts())\n",
    "outcome_dict = {'Ball': np.nan,'BlockedBall': np.nan,'CalledStrike': np.nan,'Foul': 0,'FoulBunt': np.nan,'FoulTip': 0,'FoulTipBunt': np.nan,'HitByPitch': np.nan,'InPlay': 0,'MissedBunt': np.nan,'Pitchout': np.nan,'SwingingStrike': 1,'SwingPitchout': 1,'SwingStrikeBlk': 1}\n",
    "hand_dict = {'R': 0, 'L': 1}\n",
    "raw_data.pitchresult = raw_data.pitchresult.map(outcome_dict)\n",
    "raw_data.batside = raw_data.batside.map(hand_dict)\n",
    "raw_data.pitchhand = raw_data.pitchhand.map(hand_dict)"
   ]
  },
  {
   "cell_type": "markdown",
   "metadata": {},
   "source": [
    "Removing NaNs and non-fastballs from the dataset. The NaNs were a surprsingly small part of the dataset, so it wasn't necessary to impute the values."
   ]
  },
  {
   "cell_type": "code",
   "execution_count": 4,
   "metadata": {},
   "outputs": [
    {
     "name": "stdout",
     "output_type": "stream",
     "text": [
      "0.0    149864\n",
      "1.0     26854\n",
      "Name: pitchresult, dtype: int64\n",
      "0.0    148507\n",
      "1.0     26661\n",
      "Name: pitchresult, dtype: int64\n",
      "0.0    147378\n",
      "1.0     26509\n",
      "Name: pitchresult, dtype: int64\n"
     ]
    }
   ],
   "source": [
    "raw_data = raw_data[(raw_data['pitchtype'] == 'Fastball')]\n",
    "print(raw_data.pitchresult.value_counts())\n",
    "raw_data = raw_data.dropna(axis = 0, how='any')\n",
    "print(raw_data.pitchresult.value_counts())\n",
    "raw_data = raw_data[(raw_data['releasespeed'] >= 85)]\n",
    "print(raw_data.pitchresult.value_counts())"
   ]
  },
  {
   "cell_type": "markdown",
   "metadata": {},
   "source": [
    "Storing column headers for the total model and the data we have to scale. Then taking the total model sample and transferring it to a new dataframe."
   ]
  },
  {
   "cell_type": "code",
   "execution_count": 5,
   "metadata": {},
   "outputs": [],
   "source": [
    "names = ['pitchresult','releasespeed','pitchtimetoplate','spinaxis','spinrate','horzbreakpfx','vertbreakpfx','releaseheight','releaseside','extension','vertapproachangle','horzapproachangle','batside']\n",
    "scale_names = ['releasespeed','pitchtimetoplate','spinaxis','spinrate','horzbreakpfx','vertbreakpfx','releaseheight','releaseside','extension','vertapproachangle','horzapproachangle']\n",
    "\n",
    "data = raw_data.loc[:,names].copy()\n",
    "data[scale_names] = StandardScaler().fit_transform(data[scale_names])"
   ]
  },
  {
   "cell_type": "markdown",
   "metadata": {},
   "source": [
    "Plotting a correlation matrix for all datapoints."
   ]
  },
  {
   "cell_type": "code",
   "execution_count": 6,
   "metadata": {},
   "outputs": [
    {
     "data": {
      "text/plain": [
       "<matplotlib.image.AxesImage at 0x2118869f240>"
      ]
     },
     "execution_count": 6,
     "metadata": {},
     "output_type": "execute_result"
    },
    {
     "data": {
      "image/png": "[encoded data removed]",
      "text/plain": [
       "<Figure size 288x288 with 1 Axes>"
      ]
     },
     "metadata": {},
     "output_type": "display_data"
    }
   ],
   "source": [
    "%matplotlib inline\n",
    "plt.matshow(data.corr())"
   ]
  },
  {
   "cell_type": "markdown",
   "metadata": {},
   "source": [
    "Popping out the target variable from the feature set."
   ]
  },
  {
   "cell_type": "code",
   "execution_count": 7,
   "metadata": {},
   "outputs": [
    {
     "name": "stdout",
     "output_type": "stream",
     "text": [
      "(173887, 12)\n"
     ]
    }
   ],
   "source": [
    "y = data.pop('pitchresult').values\n",
    "y = np.ravel(y)\n",
    "print(data.shape)"
   ]
  },
  {
   "cell_type": "markdown",
   "metadata": {},
   "source": [
    "Scaling the data for modeling."
   ]
  },
  {
   "cell_type": "code",
   "execution_count": 8,
   "metadata": {},
   "outputs": [],
   "source": [
    "data[scale_names] = StandardScaler().fit_transform(data[scale_names])"
   ]
  },
  {
   "cell_type": "markdown",
   "metadata": {},
   "source": [
    "Splitting the data into training, validation, and test sets. \n",
    "\n",
    "Beginning with a Logistic Regression model as it is a simple, classification model and fits the general purpose here. Can scale upward to more complex models as well, but logistic regression provides a good starting point.\n",
    "\n",
    "Initiating the regression models for the parfit package to optimize the hyperparameters and RFE, which is used to select the relevant features. For all models, I'm balancing the class weights since swinging strikes represent only about fifteen percent of our data, which is an extreme class imbalance."
   ]
  },
  {
   "cell_type": "code",
   "execution_count": 21,
   "metadata": {},
   "outputs": [],
   "source": [
    "X_int, X_test, y_int, y_test = train_test_split(data, y, stratify=y,test_size=0.2)\n",
    "\n",
    "X_train, X_val, y_train, y_val = train_test_split(X_int, y_int, stratify=y_int, test_size=0.25)\n",
    "\n",
    "del(X_int,y_int)"
   ]
  },
  {
   "cell_type": "code",
   "execution_count": 22,
   "metadata": {},
   "outputs": [
    {
     "name": "stdout",
     "output_type": "stream",
     "text": [
      "train: 0.6% | validation: 0.2% | test 0.2%\n"
     ]
    }
   ],
   "source": [
    "print('train: {}% | validation: {}% | test {}%'.format(round(len(y_train)/len(y),2),\n",
    "                                                       round(len(y_val)/len(y),2),\n",
    "                                                       round(len(y_test)/len(y),2)))"
   ]
  },
  {
   "cell_type": "markdown",
   "metadata": {},
   "source": [
    "Setting up the parameter grid for GridSearch to tune hyperparameters."
   ]
  },
  {
   "cell_type": "code",
   "execution_count": 43,
   "metadata": {},
   "outputs": [],
   "source": [
    "logreg_grid = {\n",
    "    'C': [1e-10, 1e-9, 1e-8, 1e-7, 1e-6, 1e-5,\n",
    "             1e-4, 1e-3, 1e-2, 1e-1, 1e0,\n",
    "             1e1, 1e2, 1e3, 1e4, 1e5,\n",
    "             1e6, 1e7, 1e8, 1e9, 1e10],\n",
    "    'penalty': ['l2'],\n",
    "    'n_jobs': [-1],\n",
    "    'class_weight': ['balanced']}\n",
    "\n",
    "logreg_paramGrid = ParameterGrid(logreg_grid)"
   ]
  },
  {
   "cell_type": "markdown",
   "metadata": {},
   "source": [
    "The parfit package was used to fit the Logistic Regression and SGD models. I'm fitting it on the best AUC score, which balances Precision and Recall for the best fit. I had intended to use this to fit the Random Forest Classifier, but I had issues with pickling."
   ]
  },
  {
   "cell_type": "code",
   "execution_count": 23,
   "metadata": {},
   "outputs": [
    {
     "name": "stderr",
     "output_type": "stream",
     "text": [
      "[Parallel(n_jobs=-1)]: Using backend LokyBackend with 8 concurrent workers.\n",
      "[Parallel(n_jobs=-1)]: Done   2 tasks      | elapsed:    5.6s\n",
      "[Parallel(n_jobs=-1)]: Done   9 out of  21 | elapsed:    6.9s remaining:    9.3s\n",
      "[Parallel(n_jobs=-1)]: Done  12 out of  21 | elapsed:    7.3s remaining:    5.5s\n",
      "[Parallel(n_jobs=-1)]: Done  15 out of  21 | elapsed:    7.5s remaining:    2.9s\n",
      "[Parallel(n_jobs=-1)]: Done  18 out of  21 | elapsed:    8.4s remaining:    1.3s\n",
      "[Parallel(n_jobs=-1)]: Done  21 out of  21 | elapsed:    8.5s remaining:    0.0s\n",
      "[Parallel(n_jobs=-1)]: Done  21 out of  21 | elapsed:    8.5s finished\n",
      "[Parallel(n_jobs=-1)]: Using backend LokyBackend with 8 concurrent workers.\n",
      "[Parallel(n_jobs=-1)]: Done   6 out of  21 | elapsed:    0.0s remaining:    0.1s\n",
      "[Parallel(n_jobs=-1)]: Done  21 out of  21 | elapsed:    0.1s finished\n"
     ]
    },
    {
     "data": {
      "image/png": "[encoded data removed]",
      "text/plain": [
       "<Figure size 1152x432 with 1 Axes>"
      ]
     },
     "metadata": {},
     "output_type": "display_data"
    },
    {
     "name": "stdout",
     "output_type": "stream",
     "text": [
      "LogisticRegression(C=0.01, class_weight='balanced', dual=False,\n",
      "          fit_intercept=True, intercept_scaling=1, max_iter=100,\n",
      "          multi_class='ovr', n_jobs=-1, penalty='l2', random_state=None,\n",
      "          solver='liblinear', tol=0.0001, verbose=0, warm_start=False) 0.6317766432936542\n"
     ]
    }
   ],
   "source": [
    "logreg_models = pf.fitModels(LogisticRegression(), logreg_paramGrid, X_train, y_train)\n",
    "logreg_scores = pf.scoreModels(logreg_models, X_val, y_val, metric=roc_auc_score, predict_proba=True)\n",
    "pf.plotScores(logreg_scores, logreg_paramGrid, 'AUC')\n",
    "logreg_bestModel = pf.getBestModel(logreg_models, logreg_scores, greater_is_better=True)\n",
    "logreg_bestScore = pf.getBestScore(logreg_scores, greater_is_better=True)\n",
    "print(logreg_bestModel, logreg_bestScore)"
   ]
  },
  {
   "cell_type": "code",
   "execution_count": null,
   "metadata": {},
   "outputs": [],
   "source": [
    "sgd_grid = {\n",
    "    'alpha': [1e-10, 1e-9, 1e-8, 1e-7, 1e-6, 1e-5,\n",
    "             1e-4, 1e-3, 1e-2, 1e-1, 1e0,\n",
    "             1e1, 1e2, 1e3, 1e4, 1e5,\n",
    "             1e6, 1e7, 1e8, 1e9, 1e10], # learning rate\n",
    "    'n_iter': [1000], # number of epochs\n",
    "    'loss': ['log'], # logistic regression,\n",
    "    'penalty': ['l2','elasticnet'],\n",
    "    'n_jobs': [-1],\n",
    "    'class_weight': ['balanced']}\n",
    "\n",
    "sgd_paramGrid = ParameterGrid(sgd_grid)"
   ]
  },
  {
   "cell_type": "code",
   "execution_count": 24,
   "metadata": {},
   "outputs": [
    {
     "name": "stderr",
     "output_type": "stream",
     "text": [
      "[Parallel(n_jobs=-1)]: Using backend LokyBackend with 8 concurrent workers.\n",
      "[Parallel(n_jobs=-1)]: Done   2 tasks      | elapsed:   30.4s\n",
      "[Parallel(n_jobs=-1)]: Done   9 tasks      | elapsed:  1.0min\n",
      "[Parallel(n_jobs=-1)]: Done  16 tasks      | elapsed:  3.8min\n",
      "[Parallel(n_jobs=-1)]: Done  25 tasks      | elapsed:  9.9min\n",
      "[Parallel(n_jobs=-1)]: Done  32 out of  42 | elapsed: 13.2min remaining:  4.1min\n",
      "[Parallel(n_jobs=-1)]: Done  37 out of  42 | elapsed: 15.0min remaining:  2.0min\n",
      "[Parallel(n_jobs=-1)]: Done  42 out of  42 | elapsed: 16.8min remaining:    0.0s\n",
      "[Parallel(n_jobs=-1)]: Done  42 out of  42 | elapsed: 16.8min finished\n",
      "[Parallel(n_jobs=-1)]: Using backend LokyBackend with 8 concurrent workers.\n",
      "[Parallel(n_jobs=-1)]: Done  42 out of  42 | elapsed:    2.6s finished\n"
     ]
    },
    {
     "data": {
      "image/png": "[encoded data removed]",
      "text/plain": [
       "<Figure size 144x1152 with 2 Axes>"
      ]
     },
     "metadata": {},
     "output_type": "display_data"
    },
    {
     "name": "stdout",
     "output_type": "stream",
     "text": [
      "SGDClassifier(alpha=1e-06, average=False, class_weight='balanced',\n",
      "       epsilon=0.1, eta0=0.0, fit_intercept=True, l1_ratio=0.15,\n",
      "       learning_rate='optimal', loss='log', max_iter=None, n_iter=1000,\n",
      "       n_jobs=-1, penalty='elasticnet', power_t=0.5, random_state=None,\n",
      "       shuffle=True, tol=None, verbose=0, warm_start=False) 0.6324312530492625\n"
     ]
    }
   ],
   "source": [
    "sgd_models = pf.fitModels(SGDClassifier(), sgd_paramGrid, X_train, y_train)\n",
    "sgd_scores = pf.scoreModels(sgd_models, X_val, y_val, metric=roc_auc_score, predict_proba=True)\n",
    "pf.plotScores(sgd_scores, sgd_paramGrid, 'AUC')\n",
    "sgd_bestModel = pf.getBestModel(sgd_models, sgd_scores, greater_is_better=True)\n",
    "sgd_bestScore = pf.getBestScore(sgd_scores, greater_is_better=True)\n",
    "print(sgd_bestModel, sgd_bestScore)"
   ]
  },
  {
   "cell_type": "markdown",
   "metadata": {},
   "source": [
    "Because of pickling issues, I had to run each estimator individually and was fairly limited on the range I could select. So, my AUC scores for each optimized model are listed below. You can recreate these scores by editing the clf_grid dictionary.\n",
    "\n",
    "n_estimators - AUC\n",
    "100 - 0.6979150272607002\n",
    "200 - 0.7005081084009739\n",
    "300 - 0.7021252236559996\n",
    "400 - 0.7022765895042071\n",
    "450 - 0.7027608182560081\n",
    "500 - 0.7027888004901222"
   ]
  },
  {
   "cell_type": "code",
   "execution_count": 57,
   "metadata": {},
   "outputs": [],
   "source": [
    "clf_grid = {\n",
    "    'min_samples_leaf': [1, 2, 4],\n",
    "    'min_samples_split': [2, 5, 10],\n",
    "    'max_features': ['auto'],\n",
    "    'n_estimators': [500],\n",
    "    'n_jobs': [-1],\n",
    "    'class_weight': ['balanced']}\n",
    "\n",
    "clf_paramGrid = ParameterGrid(clf_grid)"
   ]
  },
  {
   "cell_type": "code",
   "execution_count": 58,
   "metadata": {},
   "outputs": [
    {
     "name": "stderr",
     "output_type": "stream",
     "text": [
      "[Parallel(n_jobs=-1)]: Using backend LokyBackend with 8 concurrent workers.\n",
      "[Parallel(n_jobs=-1)]: Done   2 out of   9 | elapsed:  9.3min remaining: 32.6min\n",
      "[Parallel(n_jobs=-1)]: Done   3 out of   9 | elapsed:  9.6min remaining: 19.1min\n",
      "[Parallel(n_jobs=-1)]: Done   4 out of   9 | elapsed:  9.7min remaining: 12.1min\n",
      "[Parallel(n_jobs=-1)]: Done   5 out of   9 | elapsed:  9.8min remaining:  7.8min\n",
      "[Parallel(n_jobs=-1)]: Done   6 out of   9 | elapsed:  9.9min remaining:  4.9min\n",
      "[Parallel(n_jobs=-1)]: Done   7 out of   9 | elapsed:  9.9min remaining:  2.8min\n",
      "[Parallel(n_jobs=-1)]: Done   9 out of   9 | elapsed: 10.1min remaining:    0.0s\n",
      "[Parallel(n_jobs=-1)]: Done   9 out of   9 | elapsed: 10.1min finished\n",
      "[Parallel(n_jobs=-1)]: Using backend LokyBackend with 8 concurrent workers.\n",
      "[Parallel(n_jobs=-1)]: Done   4 out of   9 | elapsed:   50.3s remaining:  1.0min\n",
      "[Parallel(n_jobs=-1)]: Done   9 out of   9 | elapsed:  1.9min finished\n"
     ]
    },
    {
     "data": {
      "image/png": "[encoded data removed]",
      "text/plain": [
       "<Figure size 144x144 with 2 Axes>"
      ]
     },
     "metadata": {},
     "output_type": "display_data"
    },
    {
     "name": "stdout",
     "output_type": "stream",
     "text": [
      "RandomForestClassifier(bootstrap=True, class_weight='balanced',\n",
      "            criterion='gini', max_depth=None, max_features='auto',\n",
      "            max_leaf_nodes=None, min_impurity_decrease=0.0,\n",
      "            min_impurity_split=None, min_samples_leaf=4,\n",
      "            min_samples_split=10, min_weight_fraction_leaf=0.0,\n",
      "            n_estimators=500, n_jobs=-1, oob_score=False,\n",
      "            random_state=None, verbose=0, warm_start=False) 0.7027888004901222\n"
     ]
    }
   ],
   "source": [
    "clf_models = pf.fitModels(RandomForestClassifier(), clf_paramGrid, X_train, y_train)\n",
    "clf_scores = pf.scoreModels(clf_models, X_val, y_val, metric=roc_auc_score, predict_proba=True)\n",
    "pf.plotScores(clf_scores, clf_paramGrid, 'AUC')\n",
    "clf_bestModel = pf.getBestModel(clf_models, clf_scores, greater_is_better=True)\n",
    "clf_bestScore = pf.getBestScore(clf_scores, greater_is_better=True)\n",
    "print(clf_bestModel, clf_bestScore)"
   ]
  },
  {
   "cell_type": "markdown",
   "metadata": {},
   "source": [
    "Initializing the hyperparameterized models and running RFECV for feature selection starting with the LogisticRegression model. The model selects all but horzapproachangle."
   ]
  },
  {
   "cell_type": "code",
   "execution_count": 63,
   "metadata": {},
   "outputs": [
    {
     "name": "stdout",
     "output_type": "stream",
     "text": [
      "Selected Features: [ True  True  True  True  True  True  True  True  True  True False  True]\n",
      "Feature Ranking: [1 1 1 1 1 1 1 1 1 1 2 1]\n"
     ]
    },
    {
     "data": {
      "image/png": "[encoded data removed]",
      "text/plain": [
       "<Figure size 432x288 with 1 Axes>"
      ]
     },
     "metadata": {},
     "output_type": "display_data"
    }
   ],
   "source": [
    "logreg = LogisticRegression(C=0.01, class_weight='balanced', dual=False,\n",
    "          fit_intercept=True, intercept_scaling=1, max_iter=100,\n",
    "          multi_class='ovr', n_jobs=-1, penalty='l2', random_state=None,\n",
    "          solver='liblinear', tol=0.0001, verbose=0, warm_start=False)\n",
    "\n",
    "logreg.fit(X_train,y_train)\n",
    "\n",
    "rfe = RFECV(logreg,step=1,cv=5)\n",
    "rfe.fit(X_train,y_train)\n",
    "\n",
    "print((\"Selected Features: %s\") % rfe.support_)\n",
    "print((\"Feature Ranking: %s\") % rfe.ranking_)\n",
    "\n",
    "plt.figure()\n",
    "plt.xlabel(\"Number of features selected\")\n",
    "plt.ylabel(\"Cross validation score of number of selected features\")\n",
    "plt.plot(range(1, len(rfe.grid_scores_) + 1), rfe.grid_scores_)\n",
    "plt.show()"
   ]
  },
  {
   "cell_type": "markdown",
   "metadata": {},
   "source": [
    "SGD, using the same method, selected all features."
   ]
  },
  {
   "cell_type": "code",
   "execution_count": 64,
   "metadata": {},
   "outputs": [
    {
     "name": "stdout",
     "output_type": "stream",
     "text": [
      "Selected Features: [ True  True False  True  True  True False  True  True  True False  True]\n",
      "Feature Ranking: [1 1 4 1 1 1 3 1 1 1 2 1]\n"
     ]
    },
    {
     "data": {
      "image/png": "[encoded data removed]",
      "text/plain": [
       "<Figure size 432x288 with 1 Axes>"
      ]
     },
     "metadata": {},
     "output_type": "display_data"
    }
   ],
   "source": [
    "sgd = SGDClassifier(alpha=1e-06, average=False, class_weight='balanced',\n",
    "       epsilon=0.1, eta0=0.0, fit_intercept=True, l1_ratio=0.15,\n",
    "       learning_rate='optimal', loss='log', max_iter=None, n_iter=1000,\n",
    "       n_jobs=-1, penalty='elasticnet', power_t=0.5, random_state=None,\n",
    "       shuffle=True, tol=None, verbose=0, warm_start=False)\n",
    "\n",
    "sgd.fit(X_train, y_train)\n",
    "\n",
    "rfe = RFECV(sgd,step=1,cv=5)\n",
    "rfe.fit(X_train,y_train)\n",
    "print((\"Selected Features: %s\") % rfe.support_)\n",
    "print((\"Feature Ranking: %s\") % rfe.ranking_)\n",
    "\n",
    "plt.figure()\n",
    "plt.xlabel(\"Number of features selected\")\n",
    "plt.ylabel(\"Cross validation score of number of selected features\")\n",
    "plt.plot(range(1, len(rfe.grid_scores_) + 1), rfe.grid_scores_)\n",
    "plt.show()"
   ]
  },
  {
   "cell_type": "code",
   "execution_count": 65,
   "metadata": {},
   "outputs": [
    {
     "name": "stdout",
     "output_type": "stream",
     "text": [
      "Selected Features: [ True  True  True  True  True  True  True  True  True  True  True  True]\n",
      "Feature Ranking: [1 1 1 1 1 1 1 1 1 1 1 1]\n"
     ]
    },
    {
     "data": {
      "image/png": "[encoded data removed]",
      "text/plain": [
       "<Figure size 432x288 with 1 Axes>"
      ]
     },
     "metadata": {},
     "output_type": "display_data"
    }
   ],
   "source": [
    "clf = RandomForestClassifier(bootstrap=True, class_weight='balanced',\n",
    "            criterion='gini', max_depth=None, max_features='auto',\n",
    "            max_leaf_nodes=None, min_impurity_decrease=0.0,\n",
    "            min_impurity_split=None, min_samples_leaf=4,\n",
    "            min_samples_split=10, min_weight_fraction_leaf=0.0,\n",
    "            n_estimators=500, n_jobs=-1, oob_score=False,\n",
    "            random_state=None, verbose=0, warm_start=False)\n",
    "\n",
    "clf.fit(X_train,y_train)\n",
    "\n",
    "rfe = RFECV(clf,step=1,cv=5)\n",
    "rfe.fit(X_train,y_train)\n",
    "print((\"Selected Features: %s\") % rfe.support_)\n",
    "print((\"Feature Ranking: %s\") % rfe.ranking_)\n",
    "\n",
    "plt.figure()\n",
    "plt.xlabel(\"Number of features selected\")\n",
    "plt.ylabel(\"Cross validation score of number of selected features\")\n",
    "plt.plot(range(1, len(rfe.grid_scores_) + 1), rfe.grid_scores_)\n",
    "plt.show()"
   ]
  },
  {
   "cell_type": "markdown",
   "metadata": {},
   "source": [
    "Taking the results from RFE to build the final models for model selection."
   ]
  },
  {
   "cell_type": "code",
   "execution_count": 94,
   "metadata": {},
   "outputs": [
    {
     "name": "stdout",
     "output_type": "stream",
     "text": [
      "(173887, 10)\n"
     ]
    }
   ],
   "source": [
    "names_log = ['pitchresult','releasespeed','pitchtimetoplate','spinaxis','spinrate','horzbreakpfx','vertbreakpfx','releaseheight','extension','vertapproachangle','batside']\n",
    "scale_names_log = ['releasespeed','pitchtimetoplate','spinaxis','spinrate','horzbreakpfx','vertbreakpfx','releaseheight','extension','vertapproachangle']\n",
    "data_log = raw_data.loc[:,names_log].copy()\n",
    "\n",
    "y_log = data_log.pop('pitchresult').values\n",
    "y_log = np.ravel(y_log)\n",
    "print(data_log.shape)\n",
    "data_log[scale_names_log] = StandardScaler().fit_transform(data_log[scale_names_log])"
   ]
  },
  {
   "cell_type": "code",
   "execution_count": 95,
   "metadata": {},
   "outputs": [
    {
     "name": "stdout",
     "output_type": "stream",
     "text": [
      "(173887, 8)\n"
     ]
    }
   ],
   "source": [
    "names_sgd = ['pitchresult','releasespeed','pitchtimetoplate','spinrate','horzbreakpfx','releaseheight','extension','vertapproachangle','batside']\n",
    "scale_names_sgd = ['releasespeed','pitchtimetoplate','spinrate','horzbreakpfx','releaseheight','extension','vertapproachangle']\n",
    "data_sgd = raw_data.loc[:,names_sgd].copy()\n",
    "\n",
    "y_sgd = data_sgd.pop('pitchresult').values\n",
    "y_sgd = np.ravel(y_sgd)\n",
    "print(data_sgd.shape)\n",
    "data_sgd[scale_names_sgd] = StandardScaler().fit_transform(data_sgd[scale_names_sgd])"
   ]
  },
  {
   "cell_type": "code",
   "execution_count": 96,
   "metadata": {},
   "outputs": [
    {
     "name": "stdout",
     "output_type": "stream",
     "text": [
      "(173887, 12)\n"
     ]
    }
   ],
   "source": [
    "names_clf = ['pitchresult','releasespeed','pitchtimetoplate','spinaxis','spinrate','horzbreakpfx','vertbreakpfx','releaseheight','releaseside','extension','vertapproachangle','horzapproachangle','batside']\n",
    "scale_names_clf = ['releasespeed','pitchtimetoplate','spinaxis','spinrate','horzbreakpfx','vertbreakpfx','releaseheight','releaseside','extension','vertapproachangle','horzapproachangle']\n",
    "\n",
    "\n",
    "data_clf = raw_data.loc[:,names_clf].copy()\n",
    "\n",
    "y_clf = data_clf.pop('pitchresult').values\n",
    "y_clf = np.ravel(y_clf)\n",
    "print(data_clf.shape)\n",
    "data_clf[scale_names_clf] = StandardScaler().fit_transform(data[scale_names_clf])"
   ]
  },
  {
   "cell_type": "code",
   "execution_count": 97,
   "metadata": {},
   "outputs": [],
   "source": [
    "X_int_log, X_test_log, y_int_log, y_test_log = train_test_split(data_log, y_log,test_size=0.2, random_state=42)\n",
    "X_train_log, X_val_log, y_train_log, y_val_log = train_test_split(X_int_log, y_int_log, test_size=0.25, random_state=42)\n",
    "del(X_int_log,y_int_log)\n",
    "\n",
    "X_int_sgd, X_test_sgd, y_int_sgd, y_test_sgd = train_test_split(data_sgd, y_sgd,test_size=0.2, random_state=42)\n",
    "X_train_sgd, X_val_sgd, y_train_sgd, y_val_sgd = train_test_split(X_int_sgd, y_int_sgd, test_size=0.25, random_state=42)\n",
    "del(X_int_sgd,y_int_sgd)\n",
    "\n",
    "X_int_clf, X_test_clf, y_int_clf, y_test_clf = train_test_split(data_log, y_log,test_size=0.2, random_state=42)\n",
    "X_train_clf, X_val_clf, y_train_clf, y_val_clf = train_test_split(X_int_clf, y_int_clf, test_size=0.25, random_state=42)\n",
    "del(X_int_clf,y_int_clf)"
   ]
  },
  {
   "cell_type": "markdown",
   "metadata": {},
   "source": [
    "Taking the hyperparameter optimization to build the final models for model selection"
   ]
  },
  {
   "cell_type": "code",
   "execution_count": 71,
   "metadata": {},
   "outputs": [
    {
     "data": {
      "text/plain": [
       "LogisticRegression(C=0.001, class_weight='balanced', dual=False,\n",
       "          fit_intercept=True, intercept_scaling=1, max_iter=100,\n",
       "          multi_class='ovr', n_jobs=-1, penalty='l2', random_state=None,\n",
       "          solver='liblinear', tol=0.0001, verbose=0, warm_start=False)"
      ]
     },
     "execution_count": 71,
     "metadata": {},
     "output_type": "execute_result"
    }
   ],
   "source": [
    "logreg = LogisticRegression(C=0.001, class_weight='balanced', dual=False,\n",
    "          fit_intercept=True, intercept_scaling=1, max_iter=100,\n",
    "          multi_class='ovr', n_jobs=-1, penalty='l2', random_state=None,\n",
    "          solver='liblinear', tol=0.0001, verbose=0, warm_start=False)\n",
    "\n",
    "logreg.fit(X_train_log,y_train_log)"
   ]
  },
  {
   "cell_type": "code",
   "execution_count": 81,
   "metadata": {},
   "outputs": [
    {
     "data": {
      "text/plain": [
       "SGDClassifier(alpha=1e-05, average=False, class_weight='balanced',\n",
       "       epsilon=0.1, eta0=0.0, fit_intercept=True, l1_ratio=0.15,\n",
       "       learning_rate='optimal', loss='log', max_iter=None, n_iter=1000,\n",
       "       n_jobs=-1, penalty='elasticnet', power_t=0.5, random_state=None,\n",
       "       shuffle=True, tol=None, verbose=0, warm_start=False)"
      ]
     },
     "execution_count": 81,
     "metadata": {},
     "output_type": "execute_result"
    }
   ],
   "source": [
    "sgd = SGDClassifier(alpha=1e-05, average=False, class_weight='balanced',\n",
    "       epsilon=0.1, eta0=0.0, fit_intercept=True, l1_ratio=0.15,\n",
    "       learning_rate='optimal', loss='log', max_iter=None, n_iter=1000,\n",
    "       n_jobs=-1, penalty='elasticnet', power_t=0.5, random_state=None,\n",
    "       shuffle=True, tol=None, verbose=0, warm_start=False)\n",
    "\n",
    "sgd.fit(X_train_sgd, y_train_sgd)"
   ]
  },
  {
   "cell_type": "code",
   "execution_count": 80,
   "metadata": {},
   "outputs": [
    {
     "data": {
      "text/plain": [
       "RandomForestClassifier(bootstrap=True, class_weight='balanced',\n",
       "            criterion='gini', max_depth=None, max_features='auto',\n",
       "            max_leaf_nodes=None, min_impurity_decrease=0.0,\n",
       "            min_impurity_split=None, min_samples_leaf=4,\n",
       "            min_samples_split=10, min_weight_fraction_leaf=0.0,\n",
       "            n_estimators=500, n_jobs=-1, oob_score=False,\n",
       "            random_state=None, verbose=0, warm_start=False)"
      ]
     },
     "execution_count": 80,
     "metadata": {},
     "output_type": "execute_result"
    }
   ],
   "source": [
    "clf = RandomForestClassifier(bootstrap=True, class_weight='balanced',\n",
    "            criterion='gini', max_depth=None, max_features='auto',\n",
    "            max_leaf_nodes=None, min_impurity_decrease=0.0,\n",
    "            min_impurity_split=None, min_samples_leaf=4,\n",
    "            min_samples_split=10, min_weight_fraction_leaf=0.0,\n",
    "            n_estimators=500, n_jobs=-1, oob_score=False,\n",
    "            random_state=None, verbose=0, warm_start=False)\n",
    "\n",
    "clf.fit(X_train_clf,y_train_clf)"
   ]
  },
  {
   "cell_type": "markdown",
   "metadata": {},
   "source": [
    "Scoring the models."
   ]
  },
  {
   "cell_type": "code",
   "execution_count": 78,
   "metadata": {},
   "outputs": [
    {
     "name": "stdout",
     "output_type": "stream",
     "text": [
      "[[17135 12347]\n",
      " [ 1922  3374]]\n",
      "             precision    recall  f1-score   support\n",
      "\n",
      "        0.0       0.90      0.58      0.71     29482\n",
      "        1.0       0.21      0.64      0.32      5296\n",
      "\n",
      "avg / total       0.79      0.59      0.65     34778\n",
      "\n",
      "Tuned Logistic Regression R squared: 0.5897118868250043\n",
      "AUC: 0.6365732965026948\n",
      "AUC scores computed using 5-fold cross-validation: [0.6341096  0.63037309 0.63347914 0.63137188 0.63548422]\n",
      "Youden's J Statistic: 0.523416149245309\n"
     ]
    }
   ],
   "source": [
    "y_pred_log = logreg.predict(X_val_log)\n",
    "r2 = logreg.score(X_val_log, y_val_log)\n",
    "y_pred_log_prob = logreg.predict_proba(X_val_log)[:,1]\n",
    "print(confusion_matrix(y_val_log,y_pred_log))\n",
    "print(classification_report(y_val_log,y_pred_log))\n",
    "print(\"Tuned Logistic Regression R squared: {}\".format(r2))\n",
    "\n",
    "fpr_log, tpr_log, thresholds = roc_curve(y_val_log, y_pred_log_prob)\n",
    "roc_auc_log = roc_auc_score(y_val_log, y_pred_log_prob)\n",
    "cv_auc_log = cross_val_score(logreg,X_train_log,y_train_log,cv=5,scoring='roc_auc')\n",
    "print(\"AUC: {}\".format(roc_auc_log))\n",
    "print(\"AUC scores computed using 5-fold cross-validation: {}\".format(cv_auc_log))\n",
    "\n",
    "optimal_idx_log = np.argmax(np.abs(tpr_log - fpr_log))\n",
    "optimal_threshold_log = thresholds[optimal_idx_log]\n",
    "\n",
    "print(\"Youden's J Statistic: {}\".format(optimal_threshold_log))"
   ]
  },
  {
   "cell_type": "code",
   "execution_count": 82,
   "metadata": {},
   "outputs": [
    {
     "name": "stdout",
     "output_type": "stream",
     "text": [
      "[[15493 13989]\n",
      " [ 1739  3557]]\n",
      "             precision    recall  f1-score   support\n",
      "\n",
      "        0.0       0.90      0.53      0.66     29482\n",
      "        1.0       0.20      0.67      0.31      5296\n",
      "\n",
      "avg / total       0.79      0.55      0.61     34778\n",
      "\n",
      "Tuned SGD Classifier R squared: 0.5477600782103629\n",
      "AUC: 0.6315538735192203\n",
      "AUC scores computed using 5-fold cross-validation: [0.62460368 0.62866544 0.63146241 0.62566981 0.63103095]\n",
      "Youden's J Statistic: 0.5296349938002518\n"
     ]
    }
   ],
   "source": [
    "y_pred_sgd = sgd.predict(X_val_sgd)\n",
    "r2 = sgd.score(X_val_sgd, y_val_sgd)\n",
    "y_pred_sgd_prob = sgd.predict_proba(X_val_sgd)[:,1]\n",
    "print(confusion_matrix(y_val_sgd,y_pred_sgd))\n",
    "print(classification_report(y_val_sgd,y_pred_sgd))\n",
    "print(\"Tuned SGD Classifier R squared: {}\".format(r2))\n",
    "\n",
    "fpr_sgd, tpr_sgd, thresholds = roc_curve(y_val_sgd, y_pred_sgd_prob)\n",
    "roc_auc_sgd = roc_auc_score(y_val_sgd, y_pred_sgd_prob)\n",
    "cv_auc_sgd = cross_val_score(sgd,X_train_sgd,y_train_sgd,cv=5,scoring='roc_auc')\n",
    "print(\"AUC: {}\".format(roc_auc_sgd))\n",
    "print(\"AUC scores computed using 5-fold cross-validation: {}\".format(cv_auc_sgd))\n",
    "\n",
    "optimal_idx_sgd = np.argmax(np.abs(tpr_sgd - fpr_sgd))\n",
    "optimal_threshold_sgd = thresholds[optimal_idx_sgd]\n",
    "\n",
    "print(\"Youden's J Statistic: {}\".format(optimal_threshold_sgd))"
   ]
  },
  {
   "cell_type": "code",
   "execution_count": 85,
   "metadata": {},
   "outputs": [
    {
     "name": "stdout",
     "output_type": "stream",
     "text": [
      "[[28317  1165]\n",
      " [ 4498   798]]\n",
      "             precision    recall  f1-score   support\n",
      "\n",
      "        0.0       0.86      0.96      0.91     29482\n",
      "        1.0       0.41      0.15      0.22      5296\n",
      "\n",
      "avg / total       0.79      0.84      0.80     34778\n",
      "\n",
      "Tuned Random Forest R squared: 0.8371671746506412\n",
      "AUC: 0.6827832157201352\n",
      "AUC scores computed using 5-fold cross-validation: [0.68602467 0.67771887 0.68658529 0.68323179 0.67551709]\n",
      "Youden's J Statistic: 0.5401798526327107\n"
     ]
    }
   ],
   "source": [
    "y_pred_clf = clf.predict(X_val_clf)\n",
    "r2 = clf.score(X_val_clf, y_val_clf)\n",
    "y_pred_clf_prob = clf.predict_proba(X_val_clf)[:,1]\n",
    "print(confusion_matrix(y_val_clf,y_pred_clf))\n",
    "print(classification_report(y_val_clf,y_pred_clf))\n",
    "print(\"Tuned Random Forest R squared: {}\".format(r2))\n",
    "\n",
    "fpr_clf, tpr_clf, thresholds_clf = roc_curve(y_val_clf, y_pred_clf_prob)\n",
    "roc_auc_clf = roc_auc_score(y_val_clf, y_pred_clf_prob)\n",
    "cv_auc_clf = cross_val_score(clf,X_train_clf,y_train_clf,cv=5,scoring='roc_auc')\n",
    "print(\"AUC: {}\".format(roc_auc_clf))\n",
    "print(\"AUC scores computed using 5-fold cross-validation: {}\".format(cv_auc_clf))\n",
    "\n",
    "optimal_idx_clf = np.argmax(np.abs(tpr_clf - fpr_clf))\n",
    "optimal_threshold_clf = thresholds[optimal_idx_clf]\n",
    "\n",
    "print(\"Youden's J Statistic: {}\".format(optimal_threshold_clf))"
   ]
  },
  {
   "cell_type": "markdown",
   "metadata": {},
   "source": [
    "Plotting ROC Curve and Youden's Index."
   ]
  },
  {
   "cell_type": "code",
   "execution_count": 90,
   "metadata": {},
   "outputs": [
    {
     "data": {
      "image/png": "[encoded data removed]",
      "text/plain": [
       "<Figure size 432x288 with 1 Axes>"
      ]
     },
     "metadata": {},
     "output_type": "display_data"
    }
   ],
   "source": [
    "%matplotlib inline\n",
    "plt.figure()\n",
    "lw = 2\n",
    "x_axis = np.linspace(0,1,10)\n",
    "plt.plot(fpr_log, tpr_log, color='red', label='Logreg ROC curve (area = %0.2f)' % roc_auc_log)\n",
    "plt.plot(fpr_sgd, tpr_sgd, color='navy', label='SGD ROC curve (area = %0.2f)' % roc_auc_sgd)\n",
    "plt.plot(fpr_clf, tpr_clf, color='gold', label='RF ROC curve (area = %0.2f)' % roc_auc_clf)\n",
    "plt.plot([0, 1], [0, 1], color='navy', lw=lw, linestyle='--')\n",
    "plt.xlim([0.0, 1.0])\n",
    "plt.ylim([0.0, 1.05])\n",
    "plt.xlabel('False Positive Rate')\n",
    "plt.ylabel('True Positive Rate')\n",
    "plt.title('Receiver operating characteristic')\n",
    "plt.legend(loc=\"lower right\")\n",
    "plt.show()"
   ]
  },
  {
   "cell_type": "markdown",
   "metadata": {},
   "source": [
    "I am selecting the Random Forest Classifier for the final model. The R^2 and AUC metrics were both substantially better than the LogisticRegression and SGDClassifier models. However, I have concerns about the Recall and F-1 Score. "
   ]
  },
  {
   "cell_type": "code",
   "execution_count": 91,
   "metadata": {},
   "outputs": [
    {
     "name": "stdout",
     "output_type": "stream",
     "text": [
      "[[28353  1153]\n",
      " [ 4456   816]]\n",
      "             precision    recall  f1-score   support\n",
      "\n",
      "        0.0       0.86      0.96      0.91     29506\n",
      "        1.0       0.41      0.15      0.23      5272\n",
      "\n",
      "avg / total       0.80      0.84      0.81     34778\n",
      "\n",
      "Tuned Random Forest R squared: 0.8387198803841509\n",
      "AUC: 0.6835785412128311\n"
     ]
    }
   ],
   "source": [
    "%matplotlib inline\n",
    "plt.figure()\n",
    "lw = 2\n",
    "x_axis = np.linspace(0,1,10)\n",
    "plt.plot(fpr_log, tpr_log, color='red', label='Logreg ROC curve (area = %0.2f)' % roc_auc_log)\n",
    "plt.plot(fpr_sgd, tpr_sgd, color='navy', label='SGD ROC curve (area = %0.2f)' % roc_auc_sgd)\n",
    "plt.plot(fpr_clf, tpr_clf, color='gold', label='RF ROC curve (area = %0.2f)' % roc_auc_clf)\n",
    "plt.plot([0, 1], [0, 1], color='navy', lw=lw, linestyle='--')\n",
    "plt.xlim([0.0, 1.0])\n",
    "plt.ylim([0.0, 1.05])\n",
    "plt.xlabel('False Positive Rate')\n",
    "plt.ylabel('True Positive Rate')\n",
    "plt.title('Receiver operating characteristic')\n",
    "plt.legend(loc=\"lower right\")\n",
    "plt.show()"
   ]
  },
  {
   "cell_type": "markdown",
   "metadata": {},
   "source": [
    "Plotting the ROC curve for the test model."
   ]
  },
  {
   "cell_type": "code",
   "execution_count": 93,
   "metadata": {},
   "outputs": [
    {
     "data": {
      "image/png": "[encoded data removed]",
      "text/plain": [
       "<Figure size 432x288 with 1 Axes>"
      ]
     },
     "metadata": {},
     "output_type": "display_data"
    }
   ],
   "source": [
    "%matplotlib inline\n",
    "plt.figure()\n",
    "lw = 2\n",
    "plt.plot(fpr_clf, tpr_clf, color='gold', label='RF ROC curve (area = %0.2f)' % roc_auc_clf)\n",
    "plt.plot([0, 1], [0, 1], color='navy', lw=lw, linestyle='--')\n",
    "plt.xlim([0.0, 1.0])\n",
    "plt.ylim([0.0, 1.05])\n",
    "plt.xlabel('False Positive Rate')\n",
    "plt.ylabel('True Positive Rate')\n",
    "plt.title('Receiver operating characteristic')\n",
    "plt.legend(loc=\"lower right\")\n",
    "plt.show()"
   ]
  }
 ],
 "metadata": {
  "kernelspec": {
   "display_name": "Python 3",
   "language": "python",
   "name": "python3"
  },
  "language_info": {
   "codemirror_mode": {
    "name": "ipython",
    "version": 3
   },
   "file_extension": ".py",
   "mimetype": "text/x-python",
   "name": "python",
   "nbconvert_exporter": "python",
   "pygments_lexer": "ipython3",
   "version": "3.7.0"
  }
 },
 "nbformat": 4,
 "nbformat_minor": 2
}
