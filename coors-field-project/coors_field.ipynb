{
 "cells": [
  {
   "cell_type": "code",
   "execution_count": 1,
   "metadata": {},
   "outputs": [
    {
     "name": "stderr",
     "output_type": "stream",
     "text": [
      "C:\\Users\\RESCANT\\AppData\\Local\\Continuum\\anaconda4\\lib\\site-packages\\sklearn\\ensemble\\weight_boosting.py:29: DeprecationWarning: numpy.core.umath_tests is an internal NumPy module and should not be imported. It will be removed in a future NumPy release.\n",
      "  from numpy.core.umath_tests import inner1d\n"
     ]
    }
   ],
   "source": [
    "%matplotlib inline\n",
    "import warnings\n",
    "warnings.filterwarnings(\"ignore\", category=DeprecationWarning) \n",
    "import pandas as pd \n",
    "import numpy as np\n",
    "import requests\n",
    "import matplotlib.pyplot as plt\n",
    "import io\n",
    "from sklearn.model_selection import train_test_split, GridSearchCV, cross_val_score, ParameterGrid, RandomizedSearchCV\n",
    "from sklearn.linear_model import LogisticRegression, SGDClassifier\n",
    "from sklearn.metrics import roc_curve, auc, roc_auc_score, log_loss, accuracy_score, f1_score, confusion_matrix, precision_score, recall_score, classification_report\n",
    "from sklearn.preprocessing import StandardScaler, binarize\n",
    "from sklearn.ensemble import RandomForestClassifier\n",
    "from sklearn.feature_selection import RFECV\n",
    "import parfit.parfit as pf\n",
    "import time\n",
    "import dill\n",
    "from sqlalchemy import create_engine\n",
    "import sqlalchemy.dialects.sqlite\n",
    "import pymysql\n",
    "import matplotlib.pyplot as plt\n",
    "from mysql_conn import get_mysql_conn"
   ]
  },
  {
   "cell_type": "code",
   "execution_count": null,
   "metadata": {},
   "outputs": [],
   "source": [
    "con_file = open(\"connection.txt\",\"r\")\n",
    "user = con_file.readline()\n",
    "pw = con_file.readline()\n",
    "host = con_file.readline()\n",
    "engine = create_engine('mysql+pymysql://'+ user +':' + pw + '@'+ host)"
   ]
  },
  {
   "cell_type": "code",
   "execution_count": 3,
   "metadata": {},
   "outputs": [],
   "source": [
    "with engine.connect() as con:\n",
    "    rs = con.execute(\"SELECT * FROM tech_arescan.2018_pitches\")\n",
    "    raw_data = pd.DataFrame(rs.fetchall())\n",
    "    raw_data.columns = rs.keys()\n",
    "con.close()"
   ]
  },
  {
   "cell_type": "code",
   "execution_count": 73,
   "metadata": {},
   "outputs": [],
   "source": [
    "data = raw_data.copy()"
   ]
  },
  {
   "cell_type": "code",
   "execution_count": 74,
   "metadata": {},
   "outputs": [],
   "source": [
    "hand_dict = {'R': 0, 'L': 1}\n",
    "data.throws = data.throws.map(hand_dict)\n",
    "data.stand = data.stand.map(hand_dict)\n",
    "extra_info = ['rockies_p','result','des','type','date','ball','strike','pitch_of_ab','pitch_count',\n",
    "              'batter_position','away_runs','home_runs','outs','half','inning','batter_height',\n",
    "              'level','park_id','player_position','order_count','batter_count','seq_number',\n",
    "             'home','height']\n",
    "ids = ['pitch_id','ab_id','game_id','id','mlbid','batter_mlbid','catcher_mlbid','umpire_id']\n",
    "data = data.drop(ids,axis=1)\n",
    "data = data.drop(extra_info, axis=1)\n",
    "#data = data[(data['wild_pitch'] != 1)]\n",
    "#data = data[(data['passed_ball'] != 1)]\n",
    "#data = data.drop('passed_ball', axis=1)\n",
    "#data = data.drop('result', axis=1)"
   ]
  },
  {
   "cell_type": "code",
   "execution_count": 75,
   "metadata": {},
   "outputs": [],
   "source": [
    "raw_swing_data = data[(data['swing'] == 'swing')].copy()\n",
    "raw_swing_data = raw_swing_data.drop('swing',axis=1)"
   ]
  },
  {
   "cell_type": "code",
   "execution_count": 76,
   "metadata": {},
   "outputs": [],
   "source": [
    "swing_outcome_dict = {'OUT': 0, 'F': 0, '1B': 0, '2B': 0, '3B': 0, 'HR': 0, 'OUT-SAC': 0, 'RBOE' :0, 'NIP': 0, 'S': 1}\n",
    "raw_swing_data.outcome = raw_swing_data.outcome.map(swing_outcome_dict)"
   ]
  },
  {
   "cell_type": "code",
   "execution_count": 77,
   "metadata": {},
   "outputs": [],
   "source": [
    "col = ['pi_pitch_type']\n",
    "raw_swing_data = pd.get_dummies(raw_swing_data,columns=col)"
   ]
  },
  {
   "cell_type": "code",
   "execution_count": 78,
   "metadata": {},
   "outputs": [
    {
     "name": "stdout",
     "output_type": "stream",
     "text": [
      "0.0    186757\n",
      "1.0     67191\n",
      "Name: outcome, dtype: int64\n",
      "0.0    183760\n",
      "1.0     65632\n",
      "Name: outcome, dtype: int64\n"
     ]
    }
   ],
   "source": [
    "print(raw_swing_data.outcome.value_counts())\n",
    "raw_swing_data = raw_swing_data.dropna(axis = 0, how='any')\n",
    "print(raw_swing_data.outcome.value_counts())"
   ]
  },
  {
   "cell_type": "code",
   "execution_count": 79,
   "metadata": {},
   "outputs": [
    {
     "name": "stdout",
     "output_type": "stream",
     "text": [
      "['start_speed_corr' 'top_zone' 'bot_zone' 'pfx_x_corr' 'pfx_z_corr'\n",
      " 'px_corr_new' 'pz_corr_new' 'x0_corr' 'y0_corr' 'z0_corr' 'vx0_corr'\n",
      " 'vy0_corr' 'vz0_corr' 'ax_corr' 'ay_corr' 'az_corr' 'spin_rate' 'outcome'\n",
      " 'throws' 'elevation' 'stand' 'rockies_b' 'pi_pitch_type_CH'\n",
      " 'pi_pitch_type_CU' 'pi_pitch_type_FA' 'pi_pitch_type_FC'\n",
      " 'pi_pitch_type_FS' 'pi_pitch_type_SL']\n"
     ]
    }
   ],
   "source": [
    "print(raw_swing_data.columns.values)"
   ]
  },
  {
   "cell_type": "code",
   "execution_count": 80,
   "metadata": {},
   "outputs": [
    {
     "name": "stdout",
     "output_type": "stream",
     "text": [
      "249392\n"
     ]
    }
   ],
   "source": [
    "print(len(raw_swing_data))"
   ]
  },
  {
   "cell_type": "code",
   "execution_count": 81,
   "metadata": {},
   "outputs": [
    {
     "name": "stdout",
     "output_type": "stream",
     "text": [
      "       start_speed_corr       top_zone       bot_zone     pfx_x_corr  \\\n",
      "count     541022.000000  541022.000000  541065.000000  541022.000000   \n",
      "mean          88.382864       3.430630       1.745079      -0.273990   \n",
      "std            6.110625       0.076974       0.025060       5.407472   \n",
      "min           48.374200       2.924170       1.661000     -18.492200   \n",
      "25%           83.847300       3.390400       1.732000      -4.709025   \n",
      "50%           89.048450       3.426240       1.743830      -0.600523   \n",
      "75%           93.368500       3.497550       1.767500       3.902920   \n",
      "max          104.671000       4.363780       1.814830      17.067000   \n",
      "\n",
      "          pfx_z_corr    px_corr_new    pz_corr_new        x0_corr   y0_corr  \\\n",
      "count  541022.000000  541022.000000  541022.000000  541022.000000  541065.0   \n",
      "mean        4.127211       0.005517       2.227447      -0.753763      55.0   \n",
      "std         5.541625       0.857695       0.970454       1.998657       0.0   \n",
      "min       -20.024800      -4.579710      -4.598030      -4.942500      55.0   \n",
      "25%         0.585386      -0.578449       1.599770      -2.211300      55.0   \n",
      "50%         5.383615       0.011557       2.236670      -1.556685      55.0   \n",
      "75%         8.753525       0.591747       2.864397       1.345555      55.0   \n",
      "max        16.151000       7.024040       8.068930       5.331010      55.0   \n",
      "\n",
      "             z0_corr      ...             vy0_corr       vz0_corr  \\\n",
      "count  541022.000000      ...        541022.000000  541022.000000   \n",
      "mean        5.954203      ...          -129.378144      -3.352664   \n",
      "std         0.483516      ...             8.890010       3.329259   \n",
      "min         1.082910      ...          -153.504000     -17.953300   \n",
      "25%         5.697920      ...          -136.621000      -5.664235   \n",
      "50%         5.982390      ...          -130.356000      -3.558100   \n",
      "75%         6.264350      ...          -122.791000      -1.230882   \n",
      "max         8.774040      ...           -70.384800      14.042700   \n",
      "\n",
      "             ax_corr        ay_corr        az_corr      spin_rate  \\\n",
      "count  541022.000000  541022.000000  541022.000000  531699.000000   \n",
      "mean       -0.987009      26.580273     -23.356148    2245.256382   \n",
      "std         9.140772       3.735574       9.185071     331.146692   \n",
      "min       -30.843100       9.371120     -54.262100     428.000000   \n",
      "25%        -8.673075      23.704225     -30.217775    2104.000000   \n",
      "50%        -0.895309      26.401100     -22.323200    2276.000000   \n",
      "75%         5.881687      29.411850     -15.262500    2437.000000   \n",
      "max        26.468300      44.214300       2.056160    3726.000000   \n",
      "\n",
      "              throws      elevation          stand      rockies_b  \n",
      "count  541065.000000  541065.000000  541065.000000  541065.000000  \n",
      "mean        0.286583     510.844226       0.417368       0.032286  \n",
      "std         0.452165     938.559204       0.493125       0.176760  \n",
      "min         0.000000       1.000000       0.000000       0.000000  \n",
      "25%         0.000000      19.000000       0.000000       0.000000  \n",
      "50%         0.000000     270.000000       0.000000       0.000000  \n",
      "75%         1.000000     603.000000       1.000000       0.000000  \n",
      "max         1.000000    5185.000000       1.000000       1.000000  \n",
      "\n",
      "[8 rows x 21 columns]\n"
     ]
    }
   ],
   "source": [
    "print(data.describe())"
   ]
  },
  {
   "cell_type": "code",
   "execution_count": 82,
   "metadata": {},
   "outputs": [],
   "source": [
    "swing_data = raw_swing_data.copy()"
   ]
  },
  {
   "cell_type": "code",
   "execution_count": 83,
   "metadata": {},
   "outputs": [],
   "source": [
    "fa_swing_data = swing_data[(swing_data['pi_pitch_type_FA'] == 1)].copy()\n",
    "ch_swing_data = swing_data[(swing_data['pi_pitch_type_CH'] == 1)].copy()\n",
    "#cs_swing_data = swing_data[(swing_data['pi_pitch_type_CS'] == 1)].copy()\n",
    "cu_swing_data = swing_data[(swing_data['pi_pitch_type_CU'] == 1)].copy()\n",
    "fc_swing_data = swing_data[(swing_data['pi_pitch_type_FC'] == 1)].copy()\n",
    "fs_swing_data = swing_data[(swing_data['pi_pitch_type_FS'] == 1)].copy()\n",
    "#kn_swing_data = swing_data[(swing_data['pi_pitch_type_KN'] == 1)].copy()\n",
    "#sb_swing_data = swing_data[(swing_data['pi_pitch_type_SB'] == 1)].copy()\n",
    "#si_swing_data = swing_data[(swing_data['pi_pitch_type_SI'] == 1)].copy()\n",
    "sl_swing_data = swing_data[(swing_data['pi_pitch_type_SL'] == 1)].copy()\n",
    "\n",
    "pitches = ['pi_pitch_type_CH', 'pi_pitch_type_CU', 'pi_pitch_type_FA', 'pi_pitch_type_FC','pi_pitch_type_FS', 'pi_pitch_type_SL']\n",
    "fa_swing_data = fa_swing_data.drop(pitches, axis=1)\n",
    "ch_swing_data = ch_swing_data.drop(pitches, axis=1)\n",
    "#cs_swing_data = cs_swing_data.drop(pitches, axis=1)\n",
    "cu_swing_data = cu_swing_data.drop(pitches, axis=1)\n",
    "fc_swing_data = fc_swing_data.drop(pitches, axis=1)\n",
    "fs_swing_data = fs_swing_data.drop(pitches, axis=1)\n",
    "#kn_swing_data = kn_swing_data.drop(pitches, axis=1)\n",
    "#sb_swing_data = sb_swing_data.drop(pitches, axis=1)\n",
    "#si_swing_data = si_swing_data.drop(pitches, axis=1)\n",
    "sl_swing_data = sl_swing_data.drop(pitches, axis=1)"
   ]
  },
  {
   "cell_type": "code",
   "execution_count": 84,
   "metadata": {},
   "outputs": [
    {
     "name": "stdout",
     "output_type": "stream",
     "text": [
      "22\n",
      "22\n",
      "22\n",
      "22\n",
      "22\n",
      "22\n"
     ]
    }
   ],
   "source": [
    "print(len(fa_swing_data.columns.values))\n",
    "print(len(cu_swing_data.columns.values))\n",
    "print(len(ch_swing_data.columns.values))\n",
    "print(len(fc_swing_data.columns.values))\n",
    "print(len(fs_swing_data.columns.values))\n",
    "print(len(sl_swing_data.columns.values))"
   ]
  },
  {
   "cell_type": "code",
   "execution_count": 95,
   "metadata": {},
   "outputs": [
    {
     "name": "stderr",
     "output_type": "stream",
     "text": [
      "C:\\Users\\RESCANT\\AppData\\Local\\Continuum\\anaconda4\\lib\\site-packages\\pandas\\core\\indexing.py:1472: FutureWarning: \n",
      "Passing list-likes to .loc or [] with any missing label will raise\n",
      "KeyError in the future, you can use .reindex() as an alternative.\n",
      "\n",
      "See the documentation here:\n",
      "https://pandas.pydata.org/pandas-docs/stable/indexing.html#deprecate-loc-reindex-listlike\n",
      "  return self._getitem_tuple(key)\n"
     ]
    }
   ],
   "source": [
    "names = ['start_speed_corr', 'top_zone', 'bot_zone', 'pfx_x_corr', 'pfx_z_corr',\n",
    " 'px_corr_new', 'pz_corr_new', 'x0_corr', 'y0_corr', 'z0_corr', 'vx0_corr',\n",
    " 'vy0_corr', 'vz0_corr', 'ax_corr', 'ay_corr', 'az_corr', 'spin_rate', 'outcome',\n",
    " 'throws', 'elevation', 'stand', 'rockies_b']\n",
    "\n",
    "\n",
    "scale_names = ['start_speed_corr', 'top_zone', 'bot_zone', 'pfx_x_corr', 'pfx_z_corr',\n",
    " 'px_corr_new', 'pz_corr_new', 'x0_corr', 'y0_corr', 'z0_corr', 'vx0_corr',\n",
    " 'vy0_corr', 'vz0_corr', 'ax_corr', 'ay_corr', 'az_corr', 'spin_rate']\n",
    "\n",
    "swing_data = swing_data.loc[:,names].copy()\n",
    "swing_data[scale_names] = StandardScaler().fit_transform(swing_data[scale_names])\n",
    "\n",
    "feature_list = ['start_speed_corr', 'top_zone', 'bot_zone', 'pfx_x_corr', 'pfx_z_corr',\n",
    " 'px_corr_new', 'pz_corr_new', 'x0_corr', 'y0_corr', 'z0_corr', 'vx0_corr',\n",
    " 'vy0_corr', 'vz0_corr', 'ax_corr', 'ay_corr', 'az_corr', 'spin_rate', \n",
    " 'throws', 'elevation', 'stand', 'rockies_b']\n",
    "\n",
    "fa_swing_data = fa_swing_data.loc[:,names].copy()\n",
    "fa_swing_data[scale_names] = StandardScaler().fit_transform(fa_swing_data[scale_names])\n",
    "\n",
    "cu_swing_data = cu_swing_data.loc[:,names].copy()\n",
    "cu_swing_data[scale_names] = StandardScaler().fit_transform(cu_swing_data[scale_names])\n",
    "\n",
    "sl_swing_data = sl_swing_data.loc[:,names].copy()\n",
    "sl_swing_data[scale_names] = StandardScaler().fit_transform(sl_swing_data[scale_names])\n",
    "\n",
    "ch_swing_data = ch_swing_data.loc[:,names].copy()\n",
    "ch_swing_data[scale_names] = StandardScaler().fit_transform(ch_swing_data[scale_names])\n",
    "\n",
    "fs_swing_data = fs_swing_data.loc[:,names].copy()\n",
    "fs_swing_data[scale_names] = StandardScaler().fit_transform(fs_swing_data[scale_names])\n",
    "\n",
    "fc_swing_data = fc_swing_data.loc[:,names].copy()\n",
    "fc_swing_data[scale_names] = StandardScaler().fit_transform(fc_swing_data[scale_names])\n"
   ]
  },
  {
   "cell_type": "code",
   "execution_count": 86,
   "metadata": {},
   "outputs": [
    {
     "name": "stdout",
     "output_type": "stream",
     "text": [
      "(249392, 21)\n"
     ]
    }
   ],
   "source": [
    "y = swing_data.pop('outcome').values\n",
    "y = np.ravel(y)\n",
    "print(swing_data.shape)\n",
    "fa_y = fa_swing_data.pop('outcome').values\n",
    "fa_y = np.ravel(fa_y)\n",
    "ch_y = ch_swing_data.pop('outcome').values\n",
    "ch_y = np.ravel(ch_y)\n",
    "#cs_y = cs_swing_data.pop('outcome').values\n",
    "#cs_y = np.ravel(cs_y)\n",
    "cu_y = cu_swing_data.pop('outcome').values\n",
    "cu_y = np.ravel(cu_y)\n",
    "fc_y = fc_swing_data.pop('outcome').values\n",
    "fc_y = np.ravel(fc_y)\n",
    "fs_y = fs_swing_data.pop('outcome').values\n",
    "fs_y = np.ravel(fs_y)\n",
    "#kn_y = kn_swing_data.pop('outcome').values\n",
    "#kn_y = np.ravel(kn_y)\n",
    "#sb_y = sb_swing_data.pop('outcome').values\n",
    "#sb_y = np.ravel(sb_y)\n",
    "#si_y = si_swing_data.pop('outcome').values\n",
    "#si_y = np.ravel(si_y)\n",
    "sl_y = sl_swing_data.pop('outcome').values\n",
    "sl_y = np.ravel(sl_y)"
   ]
  },
  {
   "cell_type": "code",
   "execution_count": 87,
   "metadata": {},
   "outputs": [
    {
     "name": "stdout",
     "output_type": "stream",
     "text": [
      "train: 0.6% | validation: 0.2% | test 0.2%\n",
      "train: 0.6% | validation: 0.2% | test 0.2%\n",
      "train: 0.6% | validation: 0.2% | test 0.2%\n",
      "train: 0.6% | validation: 0.2% | test 0.2%\n",
      "train: 0.6% | validation: 0.2% | test 0.2%\n",
      "train: 0.6% | validation: 0.2% | test 0.2%\n",
      "train: 0.6% | validation: 0.2% | test 0.2%\n"
     ]
    }
   ],
   "source": [
    "X_int, X_test, y_int, y_test = train_test_split(swing_data, y,stratify=y,test_size=0.2)\n",
    "\n",
    "X_train, X_val, y_train, y_val = train_test_split(X_int, y_int,stratify=y_int, test_size=0.25)\n",
    "\n",
    "del(X_int,y_int)\n",
    "\n",
    "print('train: {}% | validation: {}% | test {}%'.format(round(len(y_train)/len(y),2),\n",
    "                                                       round(len(y_val)/len(y),2),\n",
    "                                                       round(len(y_test)/len(y),2)))\n",
    "\n",
    "X_int_fa, X_test_fa, y_int_fa, y_test_fa = train_test_split(fa_swing_data, fa_y, stratify=fa_y,test_size=0.2)\n",
    "\n",
    "X_train_fa, X_val_fa, y_train_fa, y_val_fa = train_test_split(X_int_fa, y_int_fa, stratify=y_int_fa, test_size=0.25)\n",
    "\n",
    "del(X_int_fa,y_int_fa)\n",
    "\n",
    "print('train: {}% | validation: {}% | test {}%'.format(round(len(y_train_fa)/len(fa_y),2),\n",
    "                                                       round(len(y_val_fa)/len(fa_y),2),\n",
    "                                                       round(len(y_test_fa)/len(fa_y),2)))\n",
    "\n",
    "X_int_cu, X_test_cu, y_int_cu, y_test_cu = train_test_split(cu_swing_data, cu_y, stratify=cu_y,test_size=0.2)\n",
    "\n",
    "X_train_cu, X_val_cu, y_train_cu, y_val_cu = train_test_split(X_int_cu, y_int_cu, stratify=y_int_cu, test_size=0.25)\n",
    "\n",
    "del(X_int_cu,y_int_cu)\n",
    "\n",
    "print('train: {}% | validation: {}% | test {}%'.format(round(len(y_train_cu)/len(cu_y),2),\n",
    "                                                       round(len(y_val_cu)/len(cu_y),2),\n",
    "                                                       round(len(y_test_cu)/len(cu_y),2)))\n",
    "\n",
    "X_int_sl, X_test_sl, y_int_sl, y_test_sl = train_test_split(sl_swing_data, sl_y, stratify=sl_y,test_size=0.2)\n",
    "\n",
    "X_train_sl, X_val_sl, y_train_sl, y_val_sl = train_test_split(X_int_sl, y_int_sl, stratify=y_int_sl, test_size=0.25)\n",
    "\n",
    "del(X_int_sl,y_int_sl)\n",
    "\n",
    "print('train: {}% | validation: {}% | test {}%'.format(round(len(y_train_sl)/len(sl_y),2),\n",
    "                                                       round(len(y_val_sl)/len(sl_y),2),\n",
    "                                                       round(len(y_test_sl)/len(sl_y),2)))\n",
    "\n",
    "X_int_ch, X_test_ch, y_int_ch, y_test_ch = train_test_split(ch_swing_data, ch_y, stratify=ch_y,test_size=0.2)\n",
    "\n",
    "X_train_ch, X_val_ch, y_train_ch, y_val_ch = train_test_split(X_int_ch, y_int_ch, stratify=y_int_ch, test_size=0.25)\n",
    "\n",
    "del(X_int_ch,y_int_ch)\n",
    "\n",
    "print('train: {}% | validation: {}% | test {}%'.format(round(len(y_train_ch)/len(ch_y),2),\n",
    "                                                       round(len(y_val_ch)/len(ch_y),2),\n",
    "                                                       round(len(y_test_ch)/len(ch_y),2)))\n",
    "\n",
    "X_int_fc, X_test_fc, y_int_fc, y_test_fc = train_test_split(fc_swing_data, fc_y, stratify=fc_y,test_size=0.2)\n",
    "\n",
    "X_train_fc, X_val_fc, y_train_fc, y_val_fc = train_test_split(X_int_fc, y_int_fc, stratify=y_int_fc, test_size=0.25)\n",
    "\n",
    "del(X_int_fc,y_int_fc)\n",
    "\n",
    "print('train: {}% | validation: {}% | test {}%'.format(round(len(y_train_fc)/len(fc_y),2),\n",
    "                                                       round(len(y_val_fc)/len(fc_y),2),\n",
    "                                                       round(len(y_test_fc)/len(fc_y),2)))\n",
    "\n",
    "X_int_fs, X_test_fs, y_int_fs, y_test_fs = train_test_split(fs_swing_data, fs_y, stratify=fs_y,test_size=0.2)\n",
    "\n",
    "X_train_fs, X_val_fs, y_train_fs, y_val_fs = train_test_split(X_int_fs, y_int_fs, stratify=y_int_fs, test_size=0.25)\n",
    "\n",
    "del(X_int_fs,y_int_fs)\n",
    "\n",
    "print('train: {}% | validation: {}% | test {}%'.format(round(len(y_train_fs)/len(fs_y),2),\n",
    "                                                       round(len(y_val_fs)/len(fs_y),2),\n",
    "                                                       round(len(y_test_fs)/len(fs_y),2)))"
   ]
  },
  {
   "cell_type": "code",
   "execution_count": 88,
   "metadata": {},
   "outputs": [],
   "source": [
    "logreg_grid = {\n",
    "    'C': [1e-10, 1e-9, 1e-8, 1e-7, 1e-6, 1e-5,\n",
    "             1e-4, 1e-3, 1e-2, 1e-1, 1e0,\n",
    "             1e1, 1e2, 1e3, 1e4, 1e5,\n",
    "             1e6, 1e7, 1e8, 1e9, 1e10],\n",
    "    'penalty': ['l2'],\n",
    "    'n_jobs': [-1],\n",
    "    'class_weight': ['balanced']}\n",
    "\n",
    "logreg_paramGrid = ParameterGrid(logreg_grid)"
   ]
  },
  {
   "cell_type": "code",
   "execution_count": 89,
   "metadata": {},
   "outputs": [
    {
     "name": "stderr",
     "output_type": "stream",
     "text": [
      "[Parallel(n_jobs=-1)]: Using backend LokyBackend with 8 concurrent workers.\n",
      "[Parallel(n_jobs=-1)]: Done   2 tasks      | elapsed:    3.0s\n",
      "[Parallel(n_jobs=-1)]: Done   9 out of  21 | elapsed:   11.8s remaining:   15.8s\n",
      "[Parallel(n_jobs=-1)]: Done  12 out of  21 | elapsed:   19.0s remaining:   14.2s\n",
      "[Parallel(n_jobs=-1)]: Done  15 out of  21 | elapsed:   20.2s remaining:    8.0s\n",
      "[Parallel(n_jobs=-1)]: Done  18 out of  21 | elapsed:   27.1s remaining:    4.4s\n",
      "[Parallel(n_jobs=-1)]: Done  21 out of  21 | elapsed:   29.3s remaining:    0.0s\n",
      "[Parallel(n_jobs=-1)]: Done  21 out of  21 | elapsed:   29.3s finished\n",
      "[Parallel(n_jobs=-1)]: Using backend LokyBackend with 8 concurrent workers.\n",
      "[Parallel(n_jobs=-1)]: Done   6 out of  21 | elapsed:    0.0s remaining:    0.1s\n",
      "[Parallel(n_jobs=-1)]: Done  21 out of  21 | elapsed:    0.2s finished\n"
     ]
    },
    {
     "data": {
      "image/png": "[encoded data removed]",
      "text/plain": [
       "<Figure size 1152x432 with 1 Axes>"
      ]
     },
     "metadata": {
      "needs_background": "light"
     },
     "output_type": "display_data"
    },
    {
     "name": "stdout",
     "output_type": "stream",
     "text": [
      "LogisticRegression(C=10000.0, class_weight='balanced', dual=False,\n",
      "          fit_intercept=True, intercept_scaling=1, max_iter=100,\n",
      "          multi_class='ovr', n_jobs=-1, penalty='l2', random_state=None,\n",
      "          solver='liblinear', tol=0.0001, verbose=0, warm_start=False) 0.6513482970533814\n"
     ]
    }
   ],
   "source": [
    "logreg_models = pf.fitModels(LogisticRegression(), logreg_paramGrid, X_train, y_train)\n",
    "logreg_scores = pf.scoreModels(logreg_models, X_val, y_val, metric=roc_auc_score, predict_proba=True)\n",
    "pf.plotScores(logreg_scores, logreg_paramGrid, 'AUC')\n",
    "logreg_bestModel = pf.getBestModel(logreg_models, logreg_scores, greater_is_better=True)\n",
    "logreg_bestScore = pf.getBestScore(logreg_scores, greater_is_better=True)\n",
    "print(logreg_bestModel, logreg_bestScore)"
   ]
  },
  {
   "cell_type": "code",
   "execution_count": 90,
   "metadata": {},
   "outputs": [
    {
     "name": "stderr",
     "output_type": "stream",
     "text": [
      "[Parallel(n_jobs=-1)]: Using backend LokyBackend with 8 concurrent workers.\n",
      "[Parallel(n_jobs=-1)]: Done   2 tasks      | elapsed:    0.3s\n",
      "[Parallel(n_jobs=-1)]: Done   9 out of  21 | elapsed:    2.6s remaining:    3.5s\n",
      "[Parallel(n_jobs=-1)]: Done  12 out of  21 | elapsed:    6.0s remaining:    4.4s\n",
      "[Parallel(n_jobs=-1)]: Done  15 out of  21 | elapsed:    6.4s remaining:    2.5s\n",
      "[Parallel(n_jobs=-1)]: Done  18 out of  21 | elapsed:    8.4s remaining:    1.3s\n",
      "[Parallel(n_jobs=-1)]: Done  21 out of  21 | elapsed:    9.3s remaining:    0.0s\n",
      "[Parallel(n_jobs=-1)]: Done  21 out of  21 | elapsed:    9.3s finished\n",
      "[Parallel(n_jobs=-1)]: Using backend LokyBackend with 8 concurrent workers.\n",
      "[Parallel(n_jobs=-1)]: Done   6 out of  21 | elapsed:    0.0s remaining:    0.1s\n",
      "[Parallel(n_jobs=-1)]: Done  21 out of  21 | elapsed:    0.1s finished\n"
     ]
    },
    {
     "data": {
      "image/png": "[encoded data removed]",
      "text/plain": [
       "<Figure size 1152x432 with 1 Axes>"
      ]
     },
     "metadata": {
      "needs_background": "light"
     },
     "output_type": "display_data"
    },
    {
     "name": "stdout",
     "output_type": "stream",
     "text": [
      "LogisticRegression(C=1.0, class_weight='balanced', dual=False,\n",
      "          fit_intercept=True, intercept_scaling=1, max_iter=100,\n",
      "          multi_class='ovr', n_jobs=-1, penalty='l2', random_state=None,\n",
      "          solver='liblinear', tol=0.0001, verbose=0, warm_start=False) 0.6720472388189568\n"
     ]
    }
   ],
   "source": [
    "logreg_models = pf.fitModels(LogisticRegression(), logreg_paramGrid, X_train_fa, y_train_fa)\n",
    "logreg_scores = pf.scoreModels(logreg_models, X_val_fa, y_val_fa, metric=roc_auc_score, predict_proba=True)\n",
    "pf.plotScores(logreg_scores, logreg_paramGrid, 'AUC')\n",
    "logreg_bestModel = pf.getBestModel(logreg_models, logreg_scores, greater_is_better=True)\n",
    "logreg_bestScore = pf.getBestScore(logreg_scores, greater_is_better=True)\n",
    "print(logreg_bestModel, logreg_bestScore)"
   ]
  },
  {
   "cell_type": "code",
   "execution_count": 27,
   "metadata": {},
   "outputs": [
    {
     "name": "stderr",
     "output_type": "stream",
     "text": [
      "[Parallel(n_jobs=-1)]: Using backend LokyBackend with 8 concurrent workers.\n",
      "[Parallel(n_jobs=-1)]: Batch computation too fast (0.0722s.) Setting batch_size=4.\n",
      "[Parallel(n_jobs=-1)]: Done   2 tasks      | elapsed:    0.0s\n",
      "[Parallel(n_jobs=-1)]: Done   6 out of  21 | elapsed:    0.1s remaining:    0.4s\n",
      "[Parallel(n_jobs=-1)]: Done   9 out of  21 | elapsed:    0.4s remaining:    0.6s\n",
      "[Parallel(n_jobs=-1)]: Done  12 out of  21 | elapsed:    1.9s remaining:    1.4s\n",
      "[Parallel(n_jobs=-1)]: Done  15 out of  21 | elapsed:    2.1s remaining:    0.8s\n",
      "[Parallel(n_jobs=-1)]: Done  21 out of  21 | elapsed:    3.3s remaining:    0.0s\n",
      "[Parallel(n_jobs=-1)]: Done  21 out of  21 | elapsed:    3.3s finished\n",
      "[Parallel(n_jobs=-1)]: Using backend LokyBackend with 8 concurrent workers.\n",
      "[Parallel(n_jobs=-1)]: Done   6 out of  21 | elapsed:    0.0s remaining:    0.0s\n",
      "[Parallel(n_jobs=-1)]: Done  21 out of  21 | elapsed:    0.0s finished\n"
     ]
    },
    {
     "data": {
      "image/png": "[encoded data removed]",
      "text/plain": [
       "<Figure size 1152x432 with 1 Axes>"
      ]
     },
     "metadata": {
      "needs_background": "light"
     },
     "output_type": "display_data"
    },
    {
     "name": "stdout",
     "output_type": "stream",
     "text": [
      "LogisticRegression(C=10.0, class_weight='balanced', dual=False,\n",
      "          fit_intercept=True, intercept_scaling=1, max_iter=100,\n",
      "          multi_class='ovr', n_jobs=-1, penalty='l2', random_state=None,\n",
      "          solver='liblinear', tol=0.0001, verbose=0, warm_start=False) 0.7860944888200251\n"
     ]
    }
   ],
   "source": [
    "logreg_models = pf.fitModels(LogisticRegression(), logreg_paramGrid, X_train_cu, y_train_cu)\n",
    "logreg_scores = pf.scoreModels(logreg_models, X_val_cu, y_val_cu, metric=roc_auc_score, predict_proba=True)\n",
    "pf.plotScores(logreg_scores, logreg_paramGrid, 'AUC')\n",
    "logreg_bestModel = pf.getBestModel(logreg_models, logreg_scores, greater_is_better=True)\n",
    "logreg_bestScore = pf.getBestScore(logreg_scores, greater_is_better=True)\n",
    "print(logreg_bestModel, logreg_bestScore)"
   ]
  },
  {
   "cell_type": "code",
   "execution_count": 28,
   "metadata": {},
   "outputs": [
    {
     "name": "stderr",
     "output_type": "stream",
     "text": [
      "[Parallel(n_jobs=-1)]: Using backend LokyBackend with 8 concurrent workers.\n",
      "[Parallel(n_jobs=-1)]: Batch computation too fast (0.1424s.) Setting batch_size=2.\n",
      "[Parallel(n_jobs=-1)]: Done   2 tasks      | elapsed:    0.1s\n",
      "[Parallel(n_jobs=-1)]: Done   6 out of  21 | elapsed:    0.4s remaining:    1.1s\n",
      "[Parallel(n_jobs=-1)]: Done   9 out of  21 | elapsed:    0.9s remaining:    1.2s\n",
      "[Parallel(n_jobs=-1)]: Done  12 out of  21 | elapsed:    2.9s remaining:    2.2s\n",
      "[Parallel(n_jobs=-1)]: Done  15 out of  21 | elapsed:    3.6s remaining:    1.4s\n",
      "[Parallel(n_jobs=-1)]: Done  21 out of  21 | elapsed:    5.3s remaining:    0.0s\n",
      "[Parallel(n_jobs=-1)]: Done  21 out of  21 | elapsed:    5.3s finished\n",
      "[Parallel(n_jobs=-1)]: Using backend LokyBackend with 8 concurrent workers.\n",
      "[Parallel(n_jobs=-1)]: Done   6 out of  21 | elapsed:    0.0s remaining:    0.0s\n",
      "[Parallel(n_jobs=-1)]: Done  21 out of  21 | elapsed:    0.0s finished\n"
     ]
    },
    {
     "data": {
      "image/png": "[encoded data removed]",
      "text/plain": [
       "<Figure size 1152x432 with 1 Axes>"
      ]
     },
     "metadata": {
      "needs_background": "light"
     },
     "output_type": "display_data"
    },
    {
     "name": "stdout",
     "output_type": "stream",
     "text": [
      "LogisticRegression(C=10.0, class_weight='balanced', dual=False,\n",
      "          fit_intercept=True, intercept_scaling=1, max_iter=100,\n",
      "          multi_class='ovr', n_jobs=-1, penalty='l2', random_state=None,\n",
      "          solver='liblinear', tol=0.0001, verbose=0, warm_start=False) 0.7496360559707688\n"
     ]
    }
   ],
   "source": [
    "logreg_models = pf.fitModels(LogisticRegression(), logreg_paramGrid, X_train_sl, y_train_sl)\n",
    "logreg_scores = pf.scoreModels(logreg_models, X_val_sl, y_val_sl, metric=roc_auc_score, predict_proba=True)\n",
    "pf.plotScores(logreg_scores, logreg_paramGrid, 'AUC')\n",
    "logreg_bestModel = pf.getBestModel(logreg_models, logreg_scores, greater_is_better=True)\n",
    "logreg_bestScore = pf.getBestScore(logreg_scores, greater_is_better=True)\n",
    "print(logreg_bestModel, logreg_bestScore)"
   ]
  },
  {
   "cell_type": "code",
   "execution_count": 29,
   "metadata": {},
   "outputs": [
    {
     "name": "stderr",
     "output_type": "stream",
     "text": [
      "[Parallel(n_jobs=-1)]: Using backend LokyBackend with 8 concurrent workers.\n",
      "[Parallel(n_jobs=-1)]: Batch computation too fast (0.1334s.) Setting batch_size=2.\n",
      "[Parallel(n_jobs=-1)]: Done   2 tasks      | elapsed:    0.0s\n",
      "[Parallel(n_jobs=-1)]: Done   6 out of  21 | elapsed:    0.2s remaining:    0.7s\n",
      "[Parallel(n_jobs=-1)]: Done   9 out of  21 | elapsed:    0.6s remaining:    0.8s\n",
      "[Parallel(n_jobs=-1)]: Done  12 out of  21 | elapsed:    1.7s remaining:    1.3s\n",
      "[Parallel(n_jobs=-1)]: Done  15 out of  21 | elapsed:    1.9s remaining:    0.7s\n",
      "[Parallel(n_jobs=-1)]: Done  21 out of  21 | elapsed:    2.8s remaining:    0.0s\n",
      "[Parallel(n_jobs=-1)]: Done  21 out of  21 | elapsed:    2.8s finished\n",
      "[Parallel(n_jobs=-1)]: Using backend LokyBackend with 8 concurrent workers.\n",
      "[Parallel(n_jobs=-1)]: Done   6 out of  21 | elapsed:    0.0s remaining:    0.0s\n",
      "[Parallel(n_jobs=-1)]: Done  21 out of  21 | elapsed:    0.0s finished\n"
     ]
    },
    {
     "data": {
      "image/png": "[encoded data removed]",
      "text/plain": [
       "<Figure size 1152x432 with 1 Axes>"
      ]
     },
     "metadata": {
      "needs_background": "light"
     },
     "output_type": "display_data"
    },
    {
     "name": "stdout",
     "output_type": "stream",
     "text": [
      "LogisticRegression(C=10000.0, class_weight='balanced', dual=False,\n",
      "          fit_intercept=True, intercept_scaling=1, max_iter=100,\n",
      "          multi_class='ovr', n_jobs=-1, penalty='l2', random_state=None,\n",
      "          solver='liblinear', tol=0.0001, verbose=0, warm_start=False) 0.7079291243249815\n"
     ]
    }
   ],
   "source": [
    "logreg_models = pf.fitModels(LogisticRegression(), logreg_paramGrid, X_train_ch, y_train_ch)\n",
    "logreg_scores = pf.scoreModels(logreg_models, X_val_ch, y_val_ch, metric=roc_auc_score, predict_proba=True)\n",
    "pf.plotScores(logreg_scores, logreg_paramGrid, 'AUC')\n",
    "logreg_bestModel = pf.getBestModel(logreg_models, logreg_scores, greater_is_better=True)\n",
    "logreg_bestScore = pf.getBestScore(logreg_scores, greater_is_better=True)\n",
    "print(logreg_bestModel, logreg_bestScore)"
   ]
  },
  {
   "cell_type": "code",
   "execution_count": 30,
   "metadata": {},
   "outputs": [
    {
     "name": "stderr",
     "output_type": "stream",
     "text": [
      "[Parallel(n_jobs=-1)]: Using backend LokyBackend with 8 concurrent workers.\n",
      "[Parallel(n_jobs=-1)]: Batch computation too fast (0.0321s.) Setting batch_size=12.\n",
      "[Parallel(n_jobs=-1)]: Done   2 tasks      | elapsed:    0.0s\n",
      "[Parallel(n_jobs=-1)]: Done   3 out of  21 | elapsed:    0.0s remaining:    0.2s\n",
      "[Parallel(n_jobs=-1)]: Done   6 out of  21 | elapsed:    0.0s remaining:    0.2s\n",
      "[Parallel(n_jobs=-1)]: Done   9 out of  21 | elapsed:    0.2s remaining:    0.2s\n",
      "[Parallel(n_jobs=-1)]: Done  12 out of  21 | elapsed:    0.5s remaining:    0.3s\n",
      "[Parallel(n_jobs=-1)]: Done  15 out of  21 | elapsed:    0.5s remaining:    0.2s\n",
      "[Parallel(n_jobs=-1)]: Done  21 out of  21 | elapsed:    1.0s remaining:    0.0s\n",
      "[Parallel(n_jobs=-1)]: Done  21 out of  21 | elapsed:    1.0s finished\n",
      "[Parallel(n_jobs=-1)]: Using backend LokyBackend with 8 concurrent workers.\n",
      "[Parallel(n_jobs=-1)]: Done   6 out of  21 | elapsed:    0.0s remaining:    0.0s\n",
      "[Parallel(n_jobs=-1)]: Done  21 out of  21 | elapsed:    0.0s finished\n"
     ]
    },
    {
     "data": {
      "image/png": "[encoded data removed]",
      "text/plain": [
       "<Figure size 1152x432 with 1 Axes>"
      ]
     },
     "metadata": {
      "needs_background": "light"
     },
     "output_type": "display_data"
    },
    {
     "name": "stdout",
     "output_type": "stream",
     "text": [
      "LogisticRegression(C=0.1, class_weight='balanced', dual=False,\n",
      "          fit_intercept=True, intercept_scaling=1, max_iter=100,\n",
      "          multi_class='ovr', n_jobs=-1, penalty='l2', random_state=None,\n",
      "          solver='liblinear', tol=0.0001, verbose=0, warm_start=False) 0.6492027814848633\n"
     ]
    }
   ],
   "source": [
    "logreg_models = pf.fitModels(LogisticRegression(), logreg_paramGrid, X_train_fc, y_train_fc)\n",
    "logreg_scores = pf.scoreModels(logreg_models, X_val_fc, y_val_fc, metric=roc_auc_score, predict_proba=True)\n",
    "pf.plotScores(logreg_scores, logreg_paramGrid, 'AUC')\n",
    "logreg_bestModel = pf.getBestModel(logreg_models, logreg_scores, greater_is_better=True)\n",
    "logreg_bestScore = pf.getBestScore(logreg_scores, greater_is_better=True)\n",
    "print(logreg_bestModel, logreg_bestScore)"
   ]
  },
  {
   "cell_type": "code",
   "execution_count": 31,
   "metadata": {},
   "outputs": [
    {
     "name": "stderr",
     "output_type": "stream",
     "text": [
      "[Parallel(n_jobs=-1)]: Using backend LokyBackend with 8 concurrent workers.\n",
      "[Parallel(n_jobs=-1)]: Batch computation too fast (0.0201s.) Setting batch_size=18.\n",
      "[Parallel(n_jobs=-1)]: Done   2 tasks      | elapsed:    0.0s\n",
      "[Parallel(n_jobs=-1)]: Done   3 out of  21 | elapsed:    0.0s remaining:    0.1s\n",
      "[Parallel(n_jobs=-1)]: Done   6 out of  21 | elapsed:    0.0s remaining:    0.0s\n",
      "[Parallel(n_jobs=-1)]: Done   9 out of  21 | elapsed:    0.0s remaining:    0.0s\n",
      "[Parallel(n_jobs=-1)]: Done  12 out of  21 | elapsed:    0.0s remaining:    0.0s\n",
      "[Parallel(n_jobs=-1)]: Done  15 out of  21 | elapsed:    0.0s remaining:    0.0s\n",
      "[Parallel(n_jobs=-1)]: Done  21 out of  21 | elapsed:    0.2s remaining:    0.0s\n",
      "[Parallel(n_jobs=-1)]: Done  21 out of  21 | elapsed:    0.2s finished\n",
      "[Parallel(n_jobs=-1)]: Using backend LokyBackend with 8 concurrent workers.\n",
      "[Parallel(n_jobs=-1)]: Done   6 out of  21 | elapsed:    0.0s remaining:    0.0s\n",
      "[Parallel(n_jobs=-1)]: Done  21 out of  21 | elapsed:    0.0s finished\n"
     ]
    },
    {
     "data": {
      "image/png": "[encoded data removed]",
      "text/plain": [
       "<Figure size 1152x432 with 1 Axes>"
      ]
     },
     "metadata": {
      "needs_background": "light"
     },
     "output_type": "display_data"
    },
    {
     "name": "stdout",
     "output_type": "stream",
     "text": [
      "LogisticRegression(C=1000.0, class_weight='balanced', dual=False,\n",
      "          fit_intercept=True, intercept_scaling=1, max_iter=100,\n",
      "          multi_class='ovr', n_jobs=-1, penalty='l2', random_state=None,\n",
      "          solver='liblinear', tol=0.0001, verbose=0, warm_start=False) 0.7244704882899233\n"
     ]
    }
   ],
   "source": [
    "logreg_models = pf.fitModels(LogisticRegression(), logreg_paramGrid, X_train_fs, y_train_fs)\n",
    "logreg_scores = pf.scoreModels(logreg_models, X_val_fs, y_val_fs, metric=roc_auc_score, predict_proba=True)\n",
    "pf.plotScores(logreg_scores, logreg_paramGrid, 'AUC')\n",
    "logreg_bestModel = pf.getBestModel(logreg_models, logreg_scores, greater_is_better=True)\n",
    "logreg_bestScore = pf.getBestScore(logreg_scores, greater_is_better=True)\n",
    "print(logreg_bestModel, logreg_bestScore)\n"
   ]
  },
  {
   "cell_type": "code",
   "execution_count": 52,
   "metadata": {},
   "outputs": [],
   "source": [
    "clf_grid = {\n",
    "    'min_samples_leaf': [1, 2, 4],\n",
    "    'min_samples_split': [2, 5, 10],\n",
    "    'max_features': ['auto'],\n",
    "    'n_estimators': [200],\n",
    "    'n_jobs': [-1],\n",
    "    'class_weight': ['balanced']}\n",
    "\n",
    "clf_paramGrid = ParameterGrid(clf_grid)"
   ]
  },
  {
   "cell_type": "code",
   "execution_count": 47,
   "metadata": {},
   "outputs": [
    {
     "name": "stderr",
     "output_type": "stream",
     "text": [
      "[Parallel(n_jobs=-1)]: Using backend LokyBackend with 8 concurrent workers.\n",
      "[Parallel(n_jobs=-1)]: Done   2 out of   9 | elapsed:  3.9min remaining: 13.6min\n",
      "[Parallel(n_jobs=-1)]: Done   3 out of   9 | elapsed:  3.9min remaining:  7.9min\n",
      "[Parallel(n_jobs=-1)]: Done   4 out of   9 | elapsed:  4.0min remaining:  5.0min\n",
      "[Parallel(n_jobs=-1)]: Done   5 out of   9 | elapsed:  4.0min remaining:  3.2min\n",
      "[Parallel(n_jobs=-1)]: Done   6 out of   9 | elapsed:  4.1min remaining:  2.0min\n",
      "[Parallel(n_jobs=-1)]: Done   7 out of   9 | elapsed:  4.1min remaining:  1.2min\n",
      "[Parallel(n_jobs=-1)]: Done   9 out of   9 | elapsed:  4.3min remaining:    0.0s\n",
      "[Parallel(n_jobs=-1)]: Done   9 out of   9 | elapsed:  4.3min finished\n",
      "[Parallel(n_jobs=-1)]: Using backend LokyBackend with 8 concurrent workers.\n",
      "[Parallel(n_jobs=-1)]: Done   4 out of   9 | elapsed:   13.7s remaining:   17.2s\n",
      "[Parallel(n_jobs=-1)]: Done   9 out of   9 | elapsed:   27.5s finished\n"
     ]
    },
    {
     "data": {
      "image/png": "[encoded data removed]",
      "text/plain": [
       "<Figure size 144x144 with 2 Axes>"
      ]
     },
     "metadata": {
      "needs_background": "light"
     },
     "output_type": "display_data"
    },
    {
     "name": "stdout",
     "output_type": "stream",
     "text": [
      "RandomForestClassifier(bootstrap=True, class_weight='balanced',\n",
      "            criterion='gini', max_depth=None, max_features='auto',\n",
      "            max_leaf_nodes=None, min_impurity_decrease=0.0,\n",
      "            min_impurity_split=None, min_samples_leaf=4,\n",
      "            min_samples_split=5, min_weight_fraction_leaf=0.0,\n",
      "            n_estimators=200, n_jobs=-1, oob_score=False,\n",
      "            random_state=None, verbose=0, warm_start=False) 0.7571603548226925\n"
     ]
    }
   ],
   "source": [
    "clf_models = pf.fitModels(RandomForestClassifier(), clf_paramGrid, X_train, y_train)\n",
    "clf_scores = pf.scoreModels(clf_models, X_val, y_val, metric=roc_auc_score, predict_proba=True)\n",
    "pf.plotScores(clf_scores, clf_paramGrid, 'AUC')\n",
    "clf_bestModel = pf.getBestModel(clf_models, clf_scores, greater_is_better=True)\n",
    "clf_bestScore = pf.getBestScore(clf_scores, greater_is_better=True)\n",
    "print(clf_bestModel, clf_bestScore)"
   ]
  },
  {
   "cell_type": "code",
   "execution_count": 53,
   "metadata": {},
   "outputs": [
    {
     "name": "stderr",
     "output_type": "stream",
     "text": [
      "[Parallel(n_jobs=-1)]: Using backend LokyBackend with 8 concurrent workers.\n",
      "[Parallel(n_jobs=-1)]: Done   2 out of   9 | elapsed:  1.4min remaining:  4.9min\n",
      "[Parallel(n_jobs=-1)]: Done   3 out of   9 | elapsed:  1.4min remaining:  2.8min\n",
      "[Parallel(n_jobs=-1)]: Done   4 out of   9 | elapsed:  1.4min remaining:  1.8min\n",
      "[Parallel(n_jobs=-1)]: Done   5 out of   9 | elapsed:  1.4min remaining:  1.2min\n",
      "[Parallel(n_jobs=-1)]: Done   6 out of   9 | elapsed:  1.5min remaining:   44.0s\n",
      "[Parallel(n_jobs=-1)]: Done   7 out of   9 | elapsed:  1.5min remaining:   25.6s\n",
      "[Parallel(n_jobs=-1)]: Done   9 out of   9 | elapsed:  1.6min remaining:    0.0s\n",
      "[Parallel(n_jobs=-1)]: Done   9 out of   9 | elapsed:  1.6min finished\n",
      "[Parallel(n_jobs=-1)]: Using backend LokyBackend with 8 concurrent workers.\n",
      "[Parallel(n_jobs=-1)]: Done   4 out of   9 | elapsed:    7.8s remaining:    9.7s\n",
      "[Parallel(n_jobs=-1)]: Done   9 out of   9 | elapsed:   14.3s finished\n"
     ]
    },
    {
     "data": {
      "image/png": "[encoded data removed]",
      "text/plain": [
       "<Figure size 144x144 with 2 Axes>"
      ]
     },
     "metadata": {
      "needs_background": "light"
     },
     "output_type": "display_data"
    },
    {
     "name": "stdout",
     "output_type": "stream",
     "text": [
      "RandomForestClassifier(bootstrap=True, class_weight='balanced',\n",
      "            criterion='gini', max_depth=None, max_features='auto',\n",
      "            max_leaf_nodes=None, min_impurity_decrease=0.0,\n",
      "            min_impurity_split=None, min_samples_leaf=4,\n",
      "            min_samples_split=10, min_weight_fraction_leaf=0.0,\n",
      "            n_estimators=200, n_jobs=-1, oob_score=False,\n",
      "            random_state=None, verbose=0, warm_start=False) 0.7037012781238222\n"
     ]
    }
   ],
   "source": [
    "clf_models = pf.fitModels(RandomForestClassifier(), clf_paramGrid, X_train_fa, y_train_fa)\n",
    "clf_scores = pf.scoreModels(clf_models, X_val_fa, y_val_fa, metric=roc_auc_score, predict_proba=True)\n",
    "pf.plotScores(clf_scores, clf_paramGrid, 'AUC')\n",
    "clf_bestModel = pf.getBestModel(clf_models, clf_scores, greater_is_better=True)\n",
    "clf_bestScore = pf.getBestScore(clf_scores, greater_is_better=True)\n",
    "print(clf_bestModel, clf_bestScore)"
   ]
  },
  {
   "cell_type": "code",
   "execution_count": 38,
   "metadata": {},
   "outputs": [
    {
     "name": "stderr",
     "output_type": "stream",
     "text": [
      "[Parallel(n_jobs=-1)]: Using backend LokyBackend with 8 concurrent workers.\n",
      "[Parallel(n_jobs=-1)]: Done   2 out of   9 | elapsed:   27.4s remaining:  1.6min\n",
      "[Parallel(n_jobs=-1)]: Done   3 out of   9 | elapsed:   27.9s remaining:   55.9s\n",
      "[Parallel(n_jobs=-1)]: Done   4 out of   9 | elapsed:   28.5s remaining:   35.6s\n",
      "[Parallel(n_jobs=-1)]: Done   5 out of   9 | elapsed:   29.1s remaining:   23.3s\n",
      "[Parallel(n_jobs=-1)]: Done   6 out of   9 | elapsed:   29.4s remaining:   14.7s\n",
      "[Parallel(n_jobs=-1)]: Done   7 out of   9 | elapsed:   29.9s remaining:    8.5s\n",
      "[Parallel(n_jobs=-1)]: Done   9 out of   9 | elapsed:   31.3s remaining:    0.0s\n",
      "[Parallel(n_jobs=-1)]: Done   9 out of   9 | elapsed:   31.3s finished\n",
      "[Parallel(n_jobs=-1)]: Using backend LokyBackend with 8 concurrent workers.\n",
      "[Parallel(n_jobs=-1)]: Done   4 out of   9 | elapsed:    4.1s remaining:    5.2s\n",
      "[Parallel(n_jobs=-1)]: Done   9 out of   9 | elapsed:    7.3s finished\n"
     ]
    },
    {
     "data": {
      "image/png": "[encoded data removed]",
      "text/plain": [
       "<Figure size 144x144 with 2 Axes>"
      ]
     },
     "metadata": {
      "needs_background": "light"
     },
     "output_type": "display_data"
    },
    {
     "name": "stdout",
     "output_type": "stream",
     "text": [
      "RandomForestClassifier(bootstrap=True, class_weight='balanced',\n",
      "            criterion='gini', max_depth=None, max_features='auto',\n",
      "            max_leaf_nodes=None, min_impurity_decrease=0.0,\n",
      "            min_impurity_split=None, min_samples_leaf=1,\n",
      "            min_samples_split=5, min_weight_fraction_leaf=0.0,\n",
      "            n_estimators=300, n_jobs=-1, oob_score=False,\n",
      "            random_state=None, verbose=0, warm_start=False) 0.8019221326229848\n"
     ]
    }
   ],
   "source": [
    "clf_models = pf.fitModels(RandomForestClassifier(), clf_paramGrid, X_train_cu, y_train_cu)\n",
    "clf_scores = pf.scoreModels(clf_models, X_val_cu, y_val_cu, metric=roc_auc_score, predict_proba=True)\n",
    "pf.plotScores(clf_scores, clf_paramGrid, 'AUC')\n",
    "clf_bestModel = pf.getBestModel(clf_models, clf_scores, greater_is_better=True)\n",
    "clf_bestScore = pf.getBestScore(clf_scores, greater_is_better=True)\n",
    "print(clf_bestModel, clf_bestScore)"
   ]
  },
  {
   "cell_type": "code",
   "execution_count": 39,
   "metadata": {},
   "outputs": [
    {
     "name": "stderr",
     "output_type": "stream",
     "text": [
      "[Parallel(n_jobs=-1)]: Using backend LokyBackend with 8 concurrent workers.\n",
      "[Parallel(n_jobs=-1)]: Done   2 out of   9 | elapsed:   47.4s remaining:  2.8min\n",
      "[Parallel(n_jobs=-1)]: Done   3 out of   9 | elapsed:   48.6s remaining:  1.6min\n",
      "[Parallel(n_jobs=-1)]: Done   4 out of   9 | elapsed:   49.7s remaining:  1.0min\n",
      "[Parallel(n_jobs=-1)]: Done   5 out of   9 | elapsed:   50.6s remaining:   40.4s\n",
      "[Parallel(n_jobs=-1)]: Done   6 out of   9 | elapsed:   52.0s remaining:   26.0s\n",
      "[Parallel(n_jobs=-1)]: Done   7 out of   9 | elapsed:   52.9s remaining:   15.0s\n",
      "[Parallel(n_jobs=-1)]: Done   9 out of   9 | elapsed:   54.3s remaining:    0.0s\n",
      "[Parallel(n_jobs=-1)]: Done   9 out of   9 | elapsed:   54.3s finished\n",
      "[Parallel(n_jobs=-1)]: Using backend LokyBackend with 8 concurrent workers.\n",
      "[Parallel(n_jobs=-1)]: Done   4 out of   9 | elapsed:    7.6s remaining:    9.5s\n",
      "[Parallel(n_jobs=-1)]: Done   9 out of   9 | elapsed:   13.2s finished\n"
     ]
    },
    {
     "data": {
      "image/png": "[encoded data removed]",
      "text/plain": [
       "<Figure size 144x144 with 2 Axes>"
      ]
     },
     "metadata": {
      "needs_background": "light"
     },
     "output_type": "display_data"
    },
    {
     "name": "stdout",
     "output_type": "stream",
     "text": [
      "RandomForestClassifier(bootstrap=True, class_weight='balanced',\n",
      "            criterion='gini', max_depth=None, max_features='auto',\n",
      "            max_leaf_nodes=None, min_impurity_decrease=0.0,\n",
      "            min_impurity_split=None, min_samples_leaf=4,\n",
      "            min_samples_split=2, min_weight_fraction_leaf=0.0,\n",
      "            n_estimators=300, n_jobs=-1, oob_score=False,\n",
      "            random_state=None, verbose=0, warm_start=False) 0.7901161013329492\n"
     ]
    }
   ],
   "source": [
    "clf_models = pf.fitModels(RandomForestClassifier(), clf_paramGrid, X_train_sl, y_train_sl)\n",
    "clf_scores = pf.scoreModels(clf_models, X_val_sl, y_val_sl, metric=roc_auc_score, predict_proba=True)\n",
    "pf.plotScores(clf_scores, clf_paramGrid, 'AUC')\n",
    "clf_bestModel = pf.getBestModel(clf_models, clf_scores, greater_is_better=True)\n",
    "clf_bestScore = pf.getBestScore(clf_scores, greater_is_better=True)\n",
    "print(clf_bestModel, clf_bestScore)"
   ]
  },
  {
   "cell_type": "code",
   "execution_count": 40,
   "metadata": {},
   "outputs": [
    {
     "name": "stderr",
     "output_type": "stream",
     "text": [
      "[Parallel(n_jobs=-1)]: Using backend LokyBackend with 8 concurrent workers.\n",
      "[Parallel(n_jobs=-1)]: Done   2 out of   9 | elapsed:   33.3s remaining:  1.9min\n",
      "[Parallel(n_jobs=-1)]: Done   3 out of   9 | elapsed:   34.1s remaining:  1.1min\n",
      "[Parallel(n_jobs=-1)]: Done   4 out of   9 | elapsed:   36.5s remaining:   45.7s\n",
      "[Parallel(n_jobs=-1)]: Done   5 out of   9 | elapsed:   36.9s remaining:   29.5s\n",
      "[Parallel(n_jobs=-1)]: Done   6 out of   9 | elapsed:   37.4s remaining:   18.7s\n",
      "[Parallel(n_jobs=-1)]: Done   7 out of   9 | elapsed:   38.1s remaining:   10.8s\n",
      "[Parallel(n_jobs=-1)]: Done   9 out of   9 | elapsed:   39.3s remaining:    0.0s\n",
      "[Parallel(n_jobs=-1)]: Done   9 out of   9 | elapsed:   39.3s finished\n",
      "[Parallel(n_jobs=-1)]: Using backend LokyBackend with 8 concurrent workers.\n",
      "[Parallel(n_jobs=-1)]: Done   4 out of   9 | elapsed:    5.1s remaining:    6.4s\n",
      "[Parallel(n_jobs=-1)]: Done   9 out of   9 | elapsed:    8.5s finished\n"
     ]
    },
    {
     "data": {
      "image/png": "[encoded data removed]",
      "text/plain": [
       "<Figure size 144x144 with 2 Axes>"
      ]
     },
     "metadata": {
      "needs_background": "light"
     },
     "output_type": "display_data"
    },
    {
     "name": "stdout",
     "output_type": "stream",
     "text": [
      "RandomForestClassifier(bootstrap=True, class_weight='balanced',\n",
      "            criterion='gini', max_depth=None, max_features='auto',\n",
      "            max_leaf_nodes=None, min_impurity_decrease=0.0,\n",
      "            min_impurity_split=None, min_samples_leaf=4,\n",
      "            min_samples_split=5, min_weight_fraction_leaf=0.0,\n",
      "            n_estimators=300, n_jobs=-1, oob_score=False,\n",
      "            random_state=None, verbose=0, warm_start=False) 0.7092385444061211\n"
     ]
    }
   ],
   "source": [
    "clf_models = pf.fitModels(RandomForestClassifier(), clf_paramGrid, X_train_ch, y_train_ch)\n",
    "clf_scores = pf.scoreModels(clf_models, X_val_ch, y_val_ch, metric=roc_auc_score, predict_proba=True)\n",
    "pf.plotScores(clf_scores, clf_paramGrid, 'AUC')\n",
    "clf_bestModel = pf.getBestModel(clf_models, clf_scores, greater_is_better=True)\n",
    "clf_bestScore = pf.getBestScore(clf_scores, greater_is_better=True)\n",
    "print(clf_bestModel, clf_bestScore)"
   ]
  },
  {
   "cell_type": "code",
   "execution_count": 41,
   "metadata": {},
   "outputs": [
    {
     "name": "stderr",
     "output_type": "stream",
     "text": [
      "[Parallel(n_jobs=-1)]: Using backend LokyBackend with 8 concurrent workers.\n",
      "[Parallel(n_jobs=-1)]: Done   2 out of   9 | elapsed:    7.8s remaining:   27.4s\n",
      "[Parallel(n_jobs=-1)]: Done   3 out of   9 | elapsed:    8.5s remaining:   17.1s\n",
      "[Parallel(n_jobs=-1)]: Done   4 out of   9 | elapsed:    8.7s remaining:   10.9s\n",
      "[Parallel(n_jobs=-1)]: Done   5 out of   9 | elapsed:    8.8s remaining:    7.0s\n",
      "[Parallel(n_jobs=-1)]: Done   6 out of   9 | elapsed:    9.0s remaining:    4.5s\n",
      "[Parallel(n_jobs=-1)]: Done   7 out of   9 | elapsed:    9.1s remaining:    2.5s\n",
      "[Parallel(n_jobs=-1)]: Done   9 out of   9 | elapsed:    9.7s remaining:    0.0s\n",
      "[Parallel(n_jobs=-1)]: Done   9 out of   9 | elapsed:    9.7s finished\n",
      "[Parallel(n_jobs=-1)]: Using backend LokyBackend with 8 concurrent workers.\n",
      "[Parallel(n_jobs=-1)]: Done   4 out of   9 | elapsed:    1.6s remaining:    2.1s\n",
      "[Parallel(n_jobs=-1)]: Done   9 out of   9 | elapsed:    3.0s finished\n"
     ]
    },
    {
     "data": {
      "image/png": "[encoded data removed]",
      "text/plain": [
       "<Figure size 144x144 with 2 Axes>"
      ]
     },
     "metadata": {
      "needs_background": "light"
     },
     "output_type": "display_data"
    },
    {
     "name": "stdout",
     "output_type": "stream",
     "text": [
      "RandomForestClassifier(bootstrap=True, class_weight='balanced',\n",
      "            criterion='gini', max_depth=None, max_features='auto',\n",
      "            max_leaf_nodes=None, min_impurity_decrease=0.0,\n",
      "            min_impurity_split=None, min_samples_leaf=1,\n",
      "            min_samples_split=10, min_weight_fraction_leaf=0.0,\n",
      "            n_estimators=300, n_jobs=-1, oob_score=False,\n",
      "            random_state=None, verbose=0, warm_start=False) 0.7509596473976258\n"
     ]
    }
   ],
   "source": [
    "clf_models = pf.fitModels(RandomForestClassifier(), clf_paramGrid, X_train_fc, y_train_fc)\n",
    "clf_scores = pf.scoreModels(clf_models, X_val_fc, y_val_fc, metric=roc_auc_score, predict_proba=True)\n",
    "pf.plotScores(clf_scores, clf_paramGrid, 'AUC')\n",
    "clf_bestModel = pf.getBestModel(clf_models, clf_scores, greater_is_better=True)\n",
    "clf_bestScore = pf.getBestScore(clf_scores, greater_is_better=True)\n",
    "print(clf_bestModel, clf_bestScore)"
   ]
  },
  {
   "cell_type": "code",
   "execution_count": 42,
   "metadata": {},
   "outputs": [
    {
     "name": "stderr",
     "output_type": "stream",
     "text": [
      "[Parallel(n_jobs=-1)]: Using backend LokyBackend with 8 concurrent workers.\n",
      "[Parallel(n_jobs=-1)]: Done   2 out of   9 | elapsed:    2.7s remaining:    9.8s\n",
      "[Parallel(n_jobs=-1)]: Done   3 out of   9 | elapsed:    2.9s remaining:    5.9s\n",
      "[Parallel(n_jobs=-1)]: Done   4 out of   9 | elapsed:    3.0s remaining:    3.7s\n",
      "[Parallel(n_jobs=-1)]: Done   5 out of   9 | elapsed:    3.1s remaining:    2.4s\n",
      "[Parallel(n_jobs=-1)]: Done   6 out of   9 | elapsed:    3.2s remaining:    1.6s\n",
      "[Parallel(n_jobs=-1)]: Done   7 out of   9 | elapsed:    3.3s remaining:    0.9s\n",
      "[Parallel(n_jobs=-1)]: Done   9 out of   9 | elapsed:    3.5s remaining:    0.0s\n",
      "[Parallel(n_jobs=-1)]: Done   9 out of   9 | elapsed:    3.5s finished\n",
      "[Parallel(n_jobs=-1)]: Using backend LokyBackend with 8 concurrent workers.\n",
      "[Parallel(n_jobs=-1)]: Done   4 out of   9 | elapsed:    1.1s remaining:    1.3s\n",
      "[Parallel(n_jobs=-1)]: Done   9 out of   9 | elapsed:    2.0s finished\n"
     ]
    },
    {
     "data": {
      "image/png": "[encoded data removed]",
      "text/plain": [
       "<Figure size 144x144 with 2 Axes>"
      ]
     },
     "metadata": {
      "needs_background": "light"
     },
     "output_type": "display_data"
    },
    {
     "name": "stdout",
     "output_type": "stream",
     "text": [
      "RandomForestClassifier(bootstrap=True, class_weight='balanced',\n",
      "            criterion='gini', max_depth=None, max_features='auto',\n",
      "            max_leaf_nodes=None, min_impurity_decrease=0.0,\n",
      "            min_impurity_split=None, min_samples_leaf=4,\n",
      "            min_samples_split=10, min_weight_fraction_leaf=0.0,\n",
      "            n_estimators=300, n_jobs=-1, oob_score=False,\n",
      "            random_state=None, verbose=0, warm_start=False) 0.7247021798312513\n"
     ]
    }
   ],
   "source": [
    "clf_models = pf.fitModels(RandomForestClassifier(), clf_paramGrid, X_train_fs, y_train_fs)\n",
    "clf_scores = pf.scoreModels(clf_models, X_val_fs, y_val_fs, metric=roc_auc_score, predict_proba=True)\n",
    "pf.plotScores(clf_scores, clf_paramGrid, 'AUC')\n",
    "clf_bestModel = pf.getBestModel(clf_models, clf_scores, greater_is_better=True)\n",
    "clf_bestScore = pf.getBestScore(clf_scores, greater_is_better=True)\n",
    "print(clf_bestModel, clf_bestScore)"
   ]
  },
  {
   "cell_type": "code",
   "execution_count": 463,
   "metadata": {},
   "outputs": [],
   "source": [
    "def column_index(df, query_cols):\n",
    "    cols = df.columns.values\n",
    "    sidx = np.argsort(cols)\n",
    "    return sidx[np.searchsorted(cols, query_cols, sorter = sidx)]"
   ]
  },
  {
   "cell_type": "code",
   "execution_count": 464,
   "metadata": {},
   "outputs": [
    {
     "data": {
      "text/plain": [
       "RFECV(cv=5,\n",
       "   estimator=LogisticRegression(C=100000.0, class_weight='balanced', dual=False,\n",
       "          fit_intercept=True, intercept_scaling=1, max_iter=100,\n",
       "          multi_class='ovr', n_jobs=-1, penalty='l2', random_state=None,\n",
       "          solver='liblinear', tol=0.0001, verbose=0, warm_start=False),\n",
       "   n_jobs=1, scoring=None, step=1, verbose=0)"
      ]
     },
     "execution_count": 464,
     "metadata": {},
     "output_type": "execute_result"
    }
   ],
   "source": [
    "logreg = LogisticRegression(C=100.0, class_weight='balanced', dual=False,\n",
    "          fit_intercept=True, intercept_scaling=1, max_iter=100,\n",
    "          multi_class='ovr', n_jobs=-1, penalty='l2', random_state=None,\n",
    "          solver='liblinear', tol=0.0001, verbose=0, warm_start=False)\n",
    "\n",
    "logreg.fit(X_train,y_train)\n",
    "\n",
    "rfecv_log = RFECV(logreg,step=1,cv=5)\n",
    "rfecv_log.fit(X_train,y_train)"
   ]
  },
  {
   "cell_type": "code",
   "execution_count": 465,
   "metadata": {},
   "outputs": [
    {
     "name": "stdout",
     "output_type": "stream",
     "text": [
      "Features Selected: 6\n",
      "\n",
      "Features Indexes: \n",
      "['0', '4', '6', '9', '12', '15']\n",
      "\n",
      "Feature Names: \n",
      "['start_speed_corr', 'pfx_z_corr', 'pz_corr_new', 'z0_corr', 'vz0_corr', 'az_corr']\n"
     ]
    },
    {
     "data": {
      "image/png": "[encoded data removed]",
      "text/plain": [
       "<Figure size 432x288 with 1 Axes>"
      ]
     },
     "metadata": {
      "needs_background": "light"
     },
     "output_type": "display_data"
    }
   ],
   "source": [
    "feature_index_log = []\n",
    "features_log = []\n",
    "column_index(X_train, X_train.columns.values)\n",
    "\n",
    "for num, i in enumerate(rfecv_log.get_support(), start=0):\n",
    "    if i == True:\n",
    "        feature_index_log.append(str(num))\n",
    "\n",
    "for num, i in enumerate(X_train.columns.values, start=0):\n",
    "    if str(num) in feature_index_log:\n",
    "        features_log.append(X_train.columns.values[num])\n",
    "\n",
    "print(\"Features Selected: {}\\n\".format(len(feature_index_log)))\n",
    "print(\"Features Indexes: \\n{}\\n\".format(feature_index_log))\n",
    "print(\"Feature Names: \\n{}\".format(features_log))\n",
    "\n",
    "plt.figure()\n",
    "plt.xlabel(\"Number of features selected\")\n",
    "plt.ylabel(\"Cross validation score of number of selected features\")\n",
    "plt.plot(range(1, len(rfecv_log.grid_scores_) + 1), rfecv_log.grid_scores_)\n",
    "plt.show()"
   ]
  },
  {
   "cell_type": "code",
   "execution_count": 466,
   "metadata": {},
   "outputs": [
    {
     "data": {
      "text/plain": [
       "RFECV(cv=5,\n",
       "   estimator=LogisticRegression(C=100000.0, class_weight='balanced', dual=False,\n",
       "          fit_intercept=True, intercept_scaling=1, max_iter=100,\n",
       "          multi_class='ovr', n_jobs=-1, penalty='l2', random_state=None,\n",
       "          solver='liblinear', tol=0.0001, verbose=0, warm_start=False),\n",
       "   n_jobs=1, scoring=None, step=1, verbose=0)"
      ]
     },
     "execution_count": 466,
     "metadata": {},
     "output_type": "execute_result"
    }
   ],
   "source": [
    "logreg_fa = LogisticRegression(C=10000000000.0, class_weight='balanced', dual=False,\n",
    "          fit_intercept=True, intercept_scaling=1, max_iter=100,\n",
    "          multi_class='ovr', n_jobs=-1, penalty='l2', random_state=None,\n",
    "          solver='liblinear', tol=0.0001, verbose=0, warm_start=False)\n",
    "\n",
    "logreg_fa.fit(X_train_fa,y_train_fa)\n",
    "\n",
    "rfecv_log_fa = RFECV(logreg,step=1,cv=5)\n",
    "rfecv_log_fa.fit(X_train_fa,y_train_fa)"
   ]
  },
  {
   "cell_type": "code",
   "execution_count": 467,
   "metadata": {},
   "outputs": [
    {
     "name": "stdout",
     "output_type": "stream",
     "text": [
      "Features Selected: 14\n",
      "\n",
      "Features Indexes: \n",
      "['0', '3', '4', '5', '6', '7', '9', '10', '11', '12', '13', '14', '15', '16']\n",
      "\n",
      "Feature Names: \n",
      "['start_speed_corr', 'pfx_x_corr', 'pfx_z_corr', 'px_corr_new', 'pz_corr_new', 'x0_corr', 'z0_corr', 'vx0_corr', 'vy0_corr', 'vz0_corr', 'ax_corr', 'ay_corr', 'az_corr', 'spin_rate']\n"
     ]
    },
    {
     "data": {
      "image/png": "[encoded data removed]",
      "text/plain": [
       "<Figure size 432x288 with 1 Axes>"
      ]
     },
     "metadata": {
      "needs_background": "light"
     },
     "output_type": "display_data"
    }
   ],
   "source": [
    "feature_index_log_fa = []\n",
    "features_log_fa = []\n",
    "column_index(X_train_fa, X_train_fa.columns.values)\n",
    "\n",
    "for num, i in enumerate(rfecv_log_fa.get_support(), start=0):\n",
    "    if i == True:\n",
    "        feature_index_log_fa.append(str(num))\n",
    "\n",
    "for num, i in enumerate(X_train_fa.columns.values, start=0):\n",
    "    if str(num) in feature_index_log_fa:\n",
    "        features_log_fa.append(X_train_fa.columns.values[num])\n",
    "\n",
    "print(\"Features Selected: {}\\n\".format(len(feature_index_log_fa)))\n",
    "print(\"Features Indexes: \\n{}\\n\".format(feature_index_log_fa))\n",
    "print(\"Feature Names: \\n{}\".format(features_log_fa))\n",
    "\n",
    "plt.figure()\n",
    "plt.xlabel(\"Number of features selected\")\n",
    "plt.ylabel(\"Cross validation score of number of selected features\")\n",
    "plt.plot(range(1, len(rfecv_log_fa.grid_scores_) + 1), rfecv_log_fa.grid_scores_)\n",
    "plt.show()"
   ]
  },
  {
   "cell_type": "code",
   "execution_count": 468,
   "metadata": {},
   "outputs": [
    {
     "data": {
      "text/plain": [
       "RFECV(cv=5,\n",
       "   estimator=LogisticRegression(C=100.0, class_weight='balanced', dual=False,\n",
       "          fit_intercept=True, intercept_scaling=1, max_iter=100,\n",
       "          multi_class='ovr', n_jobs=-1, penalty='l2', random_state=None,\n",
       "          solver='liblinear', tol=0.0001, verbose=0, warm_start=False),\n",
       "   n_jobs=1, scoring=None, step=1, verbose=0)"
      ]
     },
     "execution_count": 468,
     "metadata": {},
     "output_type": "execute_result"
    }
   ],
   "source": [
    "logreg_cu = LogisticRegression(C=1000000000.0, class_weight='balanced', dual=False,\n",
    "          fit_intercept=True, intercept_scaling=1, max_iter=100,\n",
    "          multi_class='ovr', n_jobs=-1, penalty='l2', random_state=None,\n",
    "          solver='liblinear', tol=0.0001, verbose=0, warm_start=False)\n",
    "\n",
    "logreg_cu.fit(X_train_cu,y_train_cu)\n",
    "\n",
    "rfecv_log_cu = RFECV(logreg_cu,step=1,cv=5)\n",
    "rfecv_log_cu.fit(X_train_cu,y_train_cu)"
   ]
  },
  {
   "cell_type": "code",
   "execution_count": 469,
   "metadata": {},
   "outputs": [
    {
     "name": "stdout",
     "output_type": "stream",
     "text": [
      "Features Selected: 14\n",
      "\n",
      "Features Indexes: \n",
      "['0', '1', '3', '5', '6', '7', '9', '10', '11', '12', '14', '17', '18', '19']\n",
      "\n",
      "Feature Names: \n",
      "['start_speed_corr', 'top_zone', 'pfx_x_corr', 'px_corr_new', 'pz_corr_new', 'x0_corr', 'z0_corr', 'vx0_corr', 'vy0_corr', 'vz0_corr', 'ay_corr', 'throws', 'stand', 'home_Coors']\n"
     ]
    },
    {
     "data": {
      "image/png": "[encoded data removed]",
      "text/plain": [
       "<Figure size 432x288 with 1 Axes>"
      ]
     },
     "metadata": {
      "needs_background": "light"
     },
     "output_type": "display_data"
    }
   ],
   "source": [
    "feature_index_log_cu = []\n",
    "features_log_cu = []\n",
    "column_index(X_train_cu, X_train_cu.columns.values)\n",
    "\n",
    "for num, i in enumerate(rfecv_log_cu.get_support(), start=0):\n",
    "    if i == True:\n",
    "        feature_index_log_cu.append(str(num))\n",
    "\n",
    "for num, i in enumerate(X_train_cu.columns.values, start=0):\n",
    "    if str(num) in feature_index_log_cu:\n",
    "        features_log_cu.append(X_train_cu.columns.values[num])\n",
    "\n",
    "print(\"Features Selected: {}\\n\".format(len(feature_index_log_cu)))\n",
    "print(\"Features Indexes: \\n{}\\n\".format(feature_index_log_cu))\n",
    "print(\"Feature Names: \\n{}\".format(features_log_cu))\n",
    "\n",
    "plt.figure()\n",
    "plt.xlabel(\"Number of features selected\")\n",
    "plt.ylabel(\"Cross validation score of number of selected features\")\n",
    "plt.plot(range(1, len(rfecv_log_cu.grid_scores_) + 1), rfecv_log_cu.grid_scores_)\n",
    "plt.show()"
   ]
  },
  {
   "cell_type": "code",
   "execution_count": 470,
   "metadata": {},
   "outputs": [
    {
     "data": {
      "text/plain": [
       "RFECV(cv=5,\n",
       "   estimator=LogisticRegression(C=1.0, class_weight='balanced', dual=False,\n",
       "          fit_intercept=True, intercept_scaling=1, max_iter=100,\n",
       "          multi_class='ovr', n_jobs=-1, penalty='l2', random_state=None,\n",
       "          solver='liblinear', tol=0.0001, verbose=0, warm_start=False),\n",
       "   n_jobs=1, scoring=None, step=1, verbose=0)"
      ]
     },
     "execution_count": 470,
     "metadata": {},
     "output_type": "execute_result"
    }
   ],
   "source": [
    "logreg_sl = LogisticRegression(C=10000000000.0, class_weight='balanced', dual=False,\n",
    "          fit_intercept=True, intercept_scaling=1, max_iter=100,\n",
    "          multi_class='ovr', n_jobs=-1, penalty='l2', random_state=None,\n",
    "          solver='liblinear', tol=0.0001, verbose=0, warm_start=False)\n",
    "\n",
    "logreg_sl.fit(X_train_sl,y_train_sl)\n",
    "\n",
    "rfecv_log_sl = RFECV(logreg_sl,step=1,cv=5)\n",
    "rfecv_log_sl.fit(X_train_sl,y_train_sl)"
   ]
  },
  {
   "cell_type": "code",
   "execution_count": 471,
   "metadata": {},
   "outputs": [
    {
     "name": "stdout",
     "output_type": "stream",
     "text": [
      "Features Selected: 13\n",
      "\n",
      "Features Indexes: \n",
      "['0', '1', '4', '5', '6', '7', '9', '10', '11', '12', '13', '14', '15']\n",
      "\n",
      "Feature Names: \n",
      "['start_speed_corr', 'top_zone', 'pfx_z_corr', 'px_corr_new', 'pz_corr_new', 'x0_corr', 'z0_corr', 'vx0_corr', 'vy0_corr', 'vz0_corr', 'ax_corr', 'ay_corr', 'az_corr']\n"
     ]
    },
    {
     "data": {
      "image/png": "[encoded data removed]",
      "text/plain": [
       "<Figure size 432x288 with 1 Axes>"
      ]
     },
     "metadata": {
      "needs_background": "light"
     },
     "output_type": "display_data"
    }
   ],
   "source": [
    "feature_index_log_sl = []\n",
    "features_log_sl = []\n",
    "column_index(X_train_sl, X_train_sl.columns.values)\n",
    "\n",
    "for num, i in enumerate(rfecv_log_sl.get_support(), start=0):\n",
    "    if i == True:\n",
    "        feature_index_log_sl.append(str(num))\n",
    "\n",
    "for num, i in enumerate(X_train_sl.columns.values, start=0):\n",
    "    if str(num) in feature_index_log_sl:\n",
    "        features_log_sl.append(X_train_sl.columns.values[num])\n",
    "\n",
    "print(\"Features Selected: {}\\n\".format(len(feature_index_log_sl)))\n",
    "print(\"Features Indexes: \\n{}\\n\".format(feature_index_log_sl))\n",
    "print(\"Feature Names: \\n{}\".format(features_log_sl))\n",
    "\n",
    "plt.figure()\n",
    "plt.xlabel(\"Number of features selected\")\n",
    "plt.ylabel(\"Cross validation score of number of selected features\")\n",
    "plt.plot(range(1, len(rfecv_log_sl.grid_scores_) + 1), rfecv_log_sl.grid_scores_)\n",
    "plt.show()"
   ]
  },
  {
   "cell_type": "code",
   "execution_count": null,
   "metadata": {},
   "outputs": [],
   "source": [
    "clf = RandomForestClassifier(bootstrap=True, class_weight='balanced',\n",
    "            criterion='gini', max_depth=None, max_features='auto',\n",
    "            max_leaf_nodes=None, min_impurity_decrease=0.0,\n",
    "            min_impurity_split=None, min_samples_leaf=4,\n",
    "            min_samples_split=5, min_weight_fraction_leaf=0.0,\n",
    "            n_estimators=300, n_jobs=-1, oob_score=False,\n",
    "            random_state=None, verbose=0, warm_start=False)\n",
    "\n",
    "clf.fit(X_train,y_train)\n",
    "\n",
    "rfecv_clf = RFECV(clf,step=1,cv=5)\n",
    "rfecv_clf.fit(X_train,y_train)"
   ]
  },
  {
   "cell_type": "code",
   "execution_count": null,
   "metadata": {},
   "outputs": [],
   "source": [
    "feature_index_clf = []\n",
    "features_clf = []\n",
    "column_index(X_train_cu, X_train_cu.columns.values)\n",
    "\n",
    "for num, i in enumerate(rfecv_clf.get_support(), start=0):\n",
    "    if i == True:\n",
    "        feature_index_clf.append(str(num))\n",
    "\n",
    "for num, i in enumerate(X_train_cu.columns.values, start=0):\n",
    "    if str(num) in feature_index_clf:\n",
    "        features_clf.append(X_train_cu.columns.values[num])\n",
    "\n",
    "print(\"Features Selected: {}\\n\".format(len(feature_index_clf)))\n",
    "print(\"Features Indexes: \\n{}\\n\".format(feature_index_clf))\n",
    "print(\"Feature Names: \\n{}\".format(features_clf))\n",
    "\n",
    "plt.figure()\n",
    "plt.xlabel(\"Number of features selected\")\n",
    "plt.ylabel(\"Cross validation score of number of selected features\")\n",
    "plt.plot(range(1, len(rfecv_clf.grid_scores_) + 1), rfecv_clf.grid_scores_)\n",
    "plt.show()"
   ]
  },
  {
   "cell_type": "code",
   "execution_count": 474,
   "metadata": {},
   "outputs": [
    {
     "data": {
      "text/plain": [
       "RFECV(cv=5,\n",
       "   estimator=RandomForestClassifier(bootstrap=True, class_weight='balanced',\n",
       "            criterion='gini', max_depth=None, max_features='auto',\n",
       "            max_leaf_nodes=None, min_impurity_decrease=0.0,\n",
       "            min_impurity_split=None, min_samples_leaf=4,\n",
       "            min_samples_split=2, min_weight_fraction_leaf=0.0,\n",
       "            n_estimators=300, n_jobs=-1, oob_score=False,\n",
       "            random_state=None, verbose=0, warm_start=False),\n",
       "   n_jobs=1, scoring=None, step=1, verbose=0)"
      ]
     },
     "execution_count": 474,
     "metadata": {},
     "output_type": "execute_result"
    }
   ],
   "source": [
    "clf_fa = RandomForestClassifier(bootstrap=True, class_weight='balanced',\n",
    "            criterion='gini', max_depth=None, max_features='auto',\n",
    "            max_leaf_nodes=None, min_impurity_decrease=0.0,\n",
    "            min_impurity_split=None, min_samples_leaf=4,\n",
    "            min_samples_split=10, min_weight_fraction_leaf=0.0,\n",
    "            n_estimators=300, n_jobs=-1, oob_score=False,\n",
    "            random_state=None, verbose=0, warm_start=False)\n",
    "\n",
    "clf_fa.fit(X_train_fa,y_train_fa)\n",
    "\n",
    "rfecv_clf_fa = RFECV(clf,step=1,cv=5)\n",
    "rfecv_clf_fa.fit(X_train_fa,y_train_fa)"
   ]
  },
  {
   "cell_type": "code",
   "execution_count": 475,
   "metadata": {},
   "outputs": [
    {
     "name": "stdout",
     "output_type": "stream",
     "text": [
      "Features Selected: 19\n",
      "\n",
      "Features Indexes: \n",
      "['0', '1', '2', '3', '4', '5', '6', '7', '9', '10', '11', '12', '13', '14', '15', '16', '17', '18', '19']\n",
      "\n",
      "Feature Names: \n",
      "['start_speed_corr', 'top_zone', 'bot_zone', 'pfx_x_corr', 'pfx_z_corr', 'px_corr_new', 'pz_corr_new', 'x0_corr', 'z0_corr', 'vx0_corr', 'vy0_corr', 'vz0_corr', 'ax_corr', 'ay_corr', 'az_corr', 'spin_rate', 'throws', 'stand', 'home_Coors']\n"
     ]
    },
    {
     "data": {
      "image/png": "[encoded data removed]",
      "text/plain": [
       "<Figure size 432x288 with 1 Axes>"
      ]
     },
     "metadata": {
      "needs_background": "light"
     },
     "output_type": "display_data"
    }
   ],
   "source": [
    "feature_index_clf_fa = []\n",
    "features_clf_fa = []\n",
    "column_index(X_train_cu, X_train_cu.columns.values)\n",
    "\n",
    "for num, i in enumerate(rfecv_clf_fa.get_support(), start=0):\n",
    "    if i == True:\n",
    "        feature_index_clf_fa.append(str(num))\n",
    "\n",
    "for num, i in enumerate(X_train_cu.columns.values, start=0):\n",
    "    if str(num) in feature_index_clf_fa:\n",
    "        features_clf_fa.append(X_train_cu.columns.values[num])\n",
    "\n",
    "print(\"Features Selected: {}\\n\".format(len(feature_index_clf_fa)))\n",
    "print(\"Features Indexes: \\n{}\\n\".format(feature_index_clf_fa))\n",
    "print(\"Feature Names: \\n{}\".format(features_clf_fa))\n",
    "\n",
    "plt.figure()\n",
    "plt.xlabel(\"Number of features selected\")\n",
    "plt.ylabel(\"Cross validation score of number of selected features\")\n",
    "plt.plot(range(1, len(rfecv_clf_fa.grid_scores_) + 1), rfecv_clf_fa.grid_scores_)\n",
    "plt.show()\n"
   ]
  },
  {
   "cell_type": "code",
   "execution_count": 476,
   "metadata": {},
   "outputs": [
    {
     "data": {
      "text/plain": [
       "RFECV(cv=5,\n",
       "   estimator=RandomForestClassifier(bootstrap=True, class_weight='balanced',\n",
       "            criterion='gini', max_depth=None, max_features='auto',\n",
       "            max_leaf_nodes=None, min_impurity_decrease=0.0,\n",
       "            min_impurity_split=None, min_samples_leaf=4,\n",
       "            min_samples_split=2, min_weight_fraction_leaf=0.0,\n",
       "            n_estimators=300, n_jobs=-1, oob_score=False,\n",
       "            random_state=None, verbose=0, warm_start=False),\n",
       "   n_jobs=1, scoring=None, step=1, verbose=0)"
      ]
     },
     "execution_count": 476,
     "metadata": {},
     "output_type": "execute_result"
    }
   ],
   "source": [
    "clf_cu = RandomForestClassifier(bootstrap=True, class_weight='balanced',\n",
    "            criterion='gini', max_depth=None, max_features='auto',\n",
    "            max_leaf_nodes=None, min_impurity_decrease=0.0,\n",
    "            min_impurity_split=None, min_samples_leaf=1,\n",
    "            min_samples_split=5, min_weight_fraction_leaf=0.0,\n",
    "            n_estimators=300, n_jobs=-1, oob_score=False,\n",
    "            random_state=None, verbose=0, warm_start=False)\n",
    "\n",
    "clf_cu.fit(X_train_cu,y_train_cu)\n",
    "\n",
    "rfecv_clf_cu = RFECV(clf_cu,step=1,cv=5)\n",
    "rfecv_clf_cu.fit(X_train_cu,y_train_cu)"
   ]
  },
  {
   "cell_type": "code",
   "execution_count": 477,
   "metadata": {},
   "outputs": [
    {
     "name": "stdout",
     "output_type": "stream",
     "text": [
      "Features Selected: 19\n",
      "\n",
      "Features Indexes: \n",
      "['0', '1', '2', '3', '4', '5', '6', '7', '9', '10', '11', '12', '13', '14', '15', '16', '17', '18', '19']\n",
      "\n",
      "Feature Names: \n",
      "['start_speed_corr', 'top_zone', 'bot_zone', 'pfx_x_corr', 'pfx_z_corr', 'px_corr_new', 'pz_corr_new', 'x0_corr', 'z0_corr', 'vx0_corr', 'vy0_corr', 'vz0_corr', 'ax_corr', 'ay_corr', 'az_corr', 'spin_rate', 'throws', 'stand', 'home_Coors']\n"
     ]
    },
    {
     "data": {
      "image/png": "[encoded data removed]",
      "text/plain": [
       "<Figure size 432x288 with 1 Axes>"
      ]
     },
     "metadata": {
      "needs_background": "light"
     },
     "output_type": "display_data"
    }
   ],
   "source": [
    "feature_index_clf_cu = []\n",
    "features_clf_cu = []\n",
    "column_index(X_train_cu, X_train_cu.columns.values)\n",
    "\n",
    "for num, i in enumerate(rfecv_clf_cu.get_support(), start=0):\n",
    "    if i == True:\n",
    "        feature_index_clf_cu.append(str(num))\n",
    "\n",
    "for num, i in enumerate(X_train_cu.columns.values, start=0):\n",
    "    if str(num) in feature_index_clf_cu:\n",
    "        features_clf_cu.append(X_train_cu.columns.values[num])\n",
    "\n",
    "print(\"Features Selected: {}\\n\".format(len(feature_index_clf_cu)))\n",
    "print(\"Features Indexes: \\n{}\\n\".format(feature_index_clf_cu))\n",
    "print(\"Feature Names: \\n{}\".format(features_clf_cu))\n",
    "\n",
    "plt.figure()\n",
    "plt.xlabel(\"Number of features selected\")\n",
    "plt.ylabel(\"Cross validation score of number of selected features\")\n",
    "plt.plot(range(1, len(rfecv_clf_cu.grid_scores_) + 1), rfecv_clf_cu.grid_scores_)\n",
    "plt.show()"
   ]
  },
  {
   "cell_type": "code",
   "execution_count": 478,
   "metadata": {},
   "outputs": [
    {
     "data": {
      "text/plain": [
       "RFECV(cv=5,\n",
       "   estimator=RandomForestClassifier(bootstrap=True, class_weight='balanced',\n",
       "            criterion='gini', max_depth=None, max_features='auto',\n",
       "            max_leaf_nodes=None, min_impurity_decrease=0.0,\n",
       "            min_impurity_split=None, min_samples_leaf=4,\n",
       "            min_samples_split=2, min_weight_fraction_leaf=0.0,\n",
       "            n_estimators=300, n_jobs=-1, oob_score=False,\n",
       "            random_state=None, verbose=0, warm_start=False),\n",
       "   n_jobs=1, scoring=None, step=1, verbose=0)"
      ]
     },
     "execution_count": 478,
     "metadata": {},
     "output_type": "execute_result"
    }
   ],
   "source": [
    "clf_sl = RandomForestClassifier(bootstrap=True, class_weight='balanced',\n",
    "            criterion='gini', max_depth=None, max_features='auto',\n",
    "            max_leaf_nodes=None, min_impurity_decrease=0.0,\n",
    "            min_impurity_split=None, min_samples_leaf=4,\n",
    "            min_samples_split=2, min_weight_fraction_leaf=0.0,\n",
    "            n_estimators=300, n_jobs=-1, oob_score=False,\n",
    "            random_state=None, verbose=0, warm_start=False)\n",
    "\n",
    "clf_sl.fit(X_train_sl,y_train_sl)\n",
    "\n",
    "rfecv_clf_sl = RFECV(clf,step=1,cv=5)\n",
    "rfecv_clf_sl.fit(X_train_sl,y_train_sl)"
   ]
  },
  {
   "cell_type": "code",
   "execution_count": 479,
   "metadata": {},
   "outputs": [
    {
     "name": "stdout",
     "output_type": "stream",
     "text": [
      "Features Selected: 17\n",
      "\n",
      "Features Indexes: \n",
      "['0', '1', '2', '3', '4', '5', '6', '7', '9', '10', '11', '12', '13', '14', '15', '16', '18']\n",
      "\n",
      "Feature Names: \n",
      "['start_speed_corr', 'top_zone', 'bot_zone', 'pfx_x_corr', 'pfx_z_corr', 'px_corr_new', 'pz_corr_new', 'x0_corr', 'z0_corr', 'vx0_corr', 'vy0_corr', 'vz0_corr', 'ax_corr', 'ay_corr', 'az_corr', 'spin_rate', 'stand']\n"
     ]
    },
    {
     "data": {
      "image/png": "[encoded data removed]",
      "text/plain": [
       "<Figure size 432x288 with 1 Axes>"
      ]
     },
     "metadata": {
      "needs_background": "light"
     },
     "output_type": "display_data"
    }
   ],
   "source": [
    "feature_index_clf_sl = []\n",
    "features_clf_sl = []\n",
    "column_index(X_train_sl, X_train_sl.columns.values)\n",
    "\n",
    "for num, i in enumerate(rfecv_clf_sl.get_support(), start=0):\n",
    "    if i == True:\n",
    "        feature_index_clf_sl.append(str(num))\n",
    "\n",
    "for num, i in enumerate(X_train_sl.columns.values, start=0):\n",
    "    if str(num) in feature_index_clf_sl:\n",
    "        features_clf_sl.append(X_train_sl.columns.values[num])\n",
    "\n",
    "print(\"Features Selected: {}\\n\".format(len(feature_index_clf_sl)))\n",
    "print(\"Features Indexes: \\n{}\\n\".format(feature_index_clf_sl))\n",
    "print(\"Feature Names: \\n{}\".format(features_clf_sl))\n",
    "\n",
    "plt.figure()\n",
    "plt.xlabel(\"Number of features selected\")\n",
    "plt.ylabel(\"Cross validation score of number of selected features\")\n",
    "plt.plot(range(1, len(rfecv_clf_sl.grid_scores_) + 1), rfecv_clf_sl.grid_scores_)\n",
    "plt.show()"
   ]
  },
  {
   "cell_type": "code",
   "execution_count": 80,
   "metadata": {},
   "outputs": [
    {
     "data": {
      "text/plain": [
       "LogisticRegression(C=100.0, class_weight='balanced', dual=False,\n",
       "          fit_intercept=True, intercept_scaling=1, max_iter=100,\n",
       "          multi_class='ovr', n_jobs=-1, penalty='l2', random_state=None,\n",
       "          solver='liblinear', tol=0.0001, verbose=0, warm_start=False)"
      ]
     },
     "execution_count": 80,
     "metadata": {},
     "output_type": "execute_result"
    }
   ],
   "source": [
    "logreg = LogisticRegression(C=100.0, class_weight='balanced', dual=False,\n",
    "          fit_intercept=True, intercept_scaling=1, max_iter=100,\n",
    "          multi_class='ovr', n_jobs=-1, penalty='l2', random_state=None,\n",
    "          solver='liblinear', tol=0.0001, verbose=0, warm_start=False)\n",
    "\n",
    "logreg.fit(X_train,y_train)"
   ]
  },
  {
   "cell_type": "code",
   "execution_count": 82,
   "metadata": {},
   "outputs": [
    {
     "name": "stdout",
     "output_type": "stream",
     "text": [
      "[[24716 12037]\n",
      " [ 5746  7380]]\n",
      "             precision    recall  f1-score   support\n",
      "\n",
      "        0.0       0.81      0.67      0.74     36753\n",
      "        1.0       0.38      0.56      0.45     13126\n",
      "\n",
      "avg / total       0.70      0.64      0.66     49879\n",
      "\n",
      "Tuned Logistic Regression R squared: 0.6434772148599611\n",
      "AUC: 0.6515640655255089\n",
      "Youden's J Statistic: 0.5569949836834486\n"
     ]
    }
   ],
   "source": [
    "y_pred_log = logreg.predict(X_val)\n",
    "#y_pred_class = binarize(y_pred_log, optimal_threshold_log)\n",
    "r2_log = logreg.score(X_val, y_val)\n",
    "y_pred_log_prob = logreg.predict_proba(X_val)[:,1]\n",
    "print(confusion_matrix(y_val,y_pred_log))\n",
    "print(classification_report(y_val,y_pred_log))\n",
    "print(\"Tuned Logistic Regression R squared: {}\".format(r2_log))\n",
    "\n",
    "fpr_log, tpr_log, thresholds = roc_curve(y_val, y_pred_log_prob)\n",
    "roc_auc_log = roc_auc_score(y_val, y_pred_log_prob)\n",
    "print(\"AUC: {}\".format(roc_auc_log))\n",
    "\n",
    "optimal_idx_log = np.argmax(np.abs(tpr_log - fpr_log))\n",
    "optimal_threshold_log = thresholds[optimal_idx_log]\n",
    "print(\"Youden's J Statistic: {}\".format(optimal_threshold_log))"
   ]
  },
  {
   "cell_type": "code",
   "execution_count": 83,
   "metadata": {},
   "outputs": [
    {
     "data": {
      "text/plain": [
       "LogisticRegression(C=10000000000.0, class_weight='balanced', dual=False,\n",
       "          fit_intercept=True, intercept_scaling=1, max_iter=100,\n",
       "          multi_class='ovr', n_jobs=-1, penalty='l2', random_state=None,\n",
       "          solver='liblinear', tol=0.0001, verbose=0, warm_start=False)"
      ]
     },
     "execution_count": 83,
     "metadata": {},
     "output_type": "execute_result"
    }
   ],
   "source": [
    "logreg_fa = LogisticRegression(C=10000000000.0, class_weight='balanced', dual=False,\n",
    "          fit_intercept=True, intercept_scaling=1, max_iter=100,\n",
    "          multi_class='ovr', n_jobs=-1, penalty='l2', random_state=None,\n",
    "          solver='liblinear', tol=0.0001, verbose=0, warm_start=False)\n",
    "\n",
    "logreg_fa.fit(X_train_fa,y_train_fa)"
   ]
  },
  {
   "cell_type": "code",
   "execution_count": 84,
   "metadata": {},
   "outputs": [
    {
     "name": "stdout",
     "output_type": "stream",
     "text": [
      "[[12112  7016]\n",
      " [ 1769  2944]]\n",
      "             precision    recall  f1-score   support\n",
      "\n",
      "        0.0       0.87      0.63      0.73     19128\n",
      "        1.0       0.30      0.62      0.40      4713\n",
      "\n",
      "avg / total       0.76      0.63      0.67     23841\n",
      "\n",
      "Tuned Logistic Regression R squared: 0.6315171343483914\n",
      "AUC: 0.6680590863272459\n",
      "Youden's J Statistic: 0.5114950945152067\n"
     ]
    }
   ],
   "source": [
    "y_pred_log_fa = logreg_fa.predict(X_val_fa)\n",
    "r2_log_fa = logreg_fa.score(X_val_fa, y_val_fa)\n",
    "y_pred_log_prob_fa = logreg_fa.predict_proba(X_val_fa)[:,1]\n",
    "print(confusion_matrix(y_val_fa,y_pred_log_fa))\n",
    "print(classification_report(y_val_fa,y_pred_log_fa))\n",
    "print(\"Tuned Logistic Regression R squared: {}\".format(r2_log_fa))\n",
    "\n",
    "fpr_log_fa, tpr_log_fa, thresholds_fa = roc_curve(y_val_fa, y_pred_log_prob_fa)\n",
    "roc_auc_log_fa = roc_auc_score(y_val_fa, y_pred_log_prob_fa)\n",
    "print(\"AUC: {}\".format(roc_auc_log_fa))\n",
    "\n",
    "optimal_idx_log_fa = np.argmax(np.abs(tpr_log_fa - fpr_log_fa))\n",
    "optimal_threshold_log_fa = thresholds_fa[optimal_idx_log_fa]\n",
    "\n",
    "print(\"Youden's J Statistic: {}\".format(optimal_threshold_log_fa))"
   ]
  },
  {
   "cell_type": "code",
   "execution_count": 85,
   "metadata": {},
   "outputs": [
    {
     "data": {
      "text/plain": [
       "LogisticRegression(C=1000000000.0, class_weight='balanced', dual=False,\n",
       "          fit_intercept=True, intercept_scaling=1, max_iter=100,\n",
       "          multi_class='ovr', n_jobs=-1, penalty='l2', random_state=None,\n",
       "          solver='liblinear', tol=0.0001, verbose=0, warm_start=False)"
      ]
     },
     "execution_count": 85,
     "metadata": {},
     "output_type": "execute_result"
    }
   ],
   "source": [
    "logreg_cu = LogisticRegression(C=1000000000.0, class_weight='balanced', dual=False,\n",
    "          fit_intercept=True, intercept_scaling=1, max_iter=100,\n",
    "          multi_class='ovr', n_jobs=-1, penalty='l2', random_state=None,\n",
    "          solver='liblinear', tol=0.0001, verbose=0, warm_start=False)\n",
    "\n",
    "logreg_cu.fit(X_train_cu,y_train_cu)"
   ]
  },
  {
   "cell_type": "code",
   "execution_count": 102,
   "metadata": {},
   "outputs": [
    {
     "name": "stdout",
     "output_type": "stream",
     "text": [
      "[[2679  973]\n",
      " [ 463 1259]]\n",
      "             precision    recall  f1-score   support\n",
      "\n",
      "        0.0       0.85      0.73      0.79      3652\n",
      "        1.0       0.56      0.73      0.64      1722\n",
      "\n",
      "avg / total       0.76      0.73      0.74      5374\n",
      "\n",
      "Tuned Logistic Regression R squared: 0.7327874953479717\n",
      "AUC: 0.8008196867291784\n",
      "Youden's J Statistic: 0.5492926679479967\n",
      "[[1.71675908e+01 1.77239245e-01 1.88226524e-03 1.08886132e+00\n",
      "  2.45466678e-01 4.22860690e-01 1.13041397e+00 1.87668238e+00\n",
      "  0.00000000e+00 1.48860659e-02 1.39454390e+00 1.73548164e+01\n",
      "  5.09047438e-02 2.60309348e-01 2.31240119e-01 9.00745138e-02\n",
      "  6.29652837e-02 1.19291179e-01 5.89938200e-05 6.81722461e-02]]\n",
      "[ 8 18  2  9 12 16 19 15 17  1 14  4 13  5  3  6 10  7  0 11]\n"
     ]
    }
   ],
   "source": [
    "y_pred_log_cu = logreg_cu.predict(X_val_cu)\n",
    "r2_log_cu = logreg_cu.score(X_val_cu, y_val_cu)\n",
    "y_pred_log_prob_cu = logreg_cu.predict_proba(X_val_cu)[:,1]\n",
    "print(confusion_matrix(y_val_cu,y_pred_log_cu))\n",
    "print(classification_report(y_val_cu,y_pred_log_cu))\n",
    "print(\"Tuned Logistic Regression R squared: {}\".format(r2_log_cu))\n",
    "\n",
    "fpr_log_cu, tpr_log_cu, thresholds_cu = roc_curve(y_val_cu, y_pred_log_prob_cu)\n",
    "roc_auc_log_cu = roc_auc_score(y_val_cu, y_pred_log_prob_cu)\n",
    "print(\"AUC: {}\".format(roc_auc_log_cu))\n",
    "\n",
    "optimal_idx_log_cu = np.argmax(np.abs(tpr_log_cu - fpr_log_cu))\n",
    "optimal_threshold_log_cu = thresholds_cu[optimal_idx_log_cu]\n",
    "\n",
    "print(\"Youden's J Statistic: {}\".format(optimal_threshold_log_cu))\n",
    "\n",
    "print(abs(logreg_cu.coef_))\n",
    "\n",
    "feature_importance = abs(logreg_cu.coef_[0])\n",
    "feature_importance = 100.0 * (feature_importance / feature_importance.max())\n",
    "sorted_idx = np.argsort(feature_importance)\n"
   ]
  },
  {
   "cell_type": "code",
   "execution_count": 87,
   "metadata": {},
   "outputs": [
    {
     "data": {
      "text/plain": [
       "LogisticRegression(C=10000000000.0, class_weight='balanced', dual=False,\n",
       "          fit_intercept=True, intercept_scaling=1, max_iter=100,\n",
       "          multi_class='ovr', n_jobs=-1, penalty='l2', random_state=None,\n",
       "          solver='liblinear', tol=0.0001, verbose=0, warm_start=False)"
      ]
     },
     "execution_count": 87,
     "metadata": {},
     "output_type": "execute_result"
    }
   ],
   "source": [
    "logreg_sl = LogisticRegression(C=10000000000.0, class_weight='balanced', dual=False,\n",
    "          fit_intercept=True, intercept_scaling=1, max_iter=100,\n",
    "          multi_class='ovr', n_jobs=-1, penalty='l2', random_state=None,\n",
    "          solver='liblinear', tol=0.0001, verbose=0, warm_start=False)\n",
    "\n",
    "logreg_sl.fit(X_train_sl,y_train_sl)"
   ]
  },
  {
   "cell_type": "code",
   "execution_count": 88,
   "metadata": {},
   "outputs": [
    {
     "name": "stdout",
     "output_type": "stream",
     "text": [
      "[[4582 1963]\n",
      " [1036 2475]]\n",
      "             precision    recall  f1-score   support\n",
      "\n",
      "        0.0       0.82      0.70      0.75      6545\n",
      "        1.0       0.56      0.70      0.62      3511\n",
      "\n",
      "avg / total       0.73      0.70      0.71     10056\n",
      "\n",
      "Tuned Logistic Regression R squared: 0.7017700875099443\n",
      "AUC: 0.7612900544594213\n",
      "Youden's J Statistic: 0.5601605199344311\n"
     ]
    }
   ],
   "source": [
    "y_pred_log_sl = logreg_sl.predict(X_val_sl)\n",
    "r2_log_sl = logreg_sl.score(X_val_sl, y_val_sl)\n",
    "y_pred_log_prob_sl = logreg_sl.predict_proba(X_val_sl)[:,1]\n",
    "print(confusion_matrix(y_val_sl,y_pred_log_sl))\n",
    "print(classification_report(y_val_sl,y_pred_log_sl))\n",
    "print(\"Tuned Logistic Regression R squared: {}\".format(r2_log_sl))\n",
    "\n",
    "fpr_log_sl, tpr_log_sl, thresholds_sl = roc_curve(y_val_sl, y_pred_log_prob_sl)\n",
    "roc_auc_log_sl = roc_auc_score(y_val_sl, y_pred_log_prob_sl)\n",
    "print(\"AUC: {}\".format(roc_auc_log_sl))\n",
    "\n",
    "optimal_idx_log_sl = np.argmax(np.abs(tpr_log_sl - fpr_log_sl))\n",
    "optimal_threshold_log_sl = thresholds_sl[optimal_idx_log_sl]\n",
    "\n",
    "print(\"Youden's J Statistic: {}\".format(optimal_threshold_log_sl))"
   ]
  },
  {
   "cell_type": "code",
   "execution_count": 89,
   "metadata": {},
   "outputs": [
    {
     "data": {
      "text/plain": [
       "LogisticRegression(C=100.0, class_weight='balanced', dual=False,\n",
       "          fit_intercept=True, intercept_scaling=1, max_iter=100,\n",
       "          multi_class='ovr', n_jobs=-1, penalty='l2', random_state=None,\n",
       "          solver='liblinear', tol=0.0001, verbose=0, warm_start=False)"
      ]
     },
     "execution_count": 89,
     "metadata": {},
     "output_type": "execute_result"
    }
   ],
   "source": [
    "logreg_ch = LogisticRegression(C=100.0, class_weight='balanced', dual=False,\n",
    "          fit_intercept=True, intercept_scaling=1, max_iter=100,\n",
    "          multi_class='ovr', n_jobs=-1, penalty='l2', random_state=None,\n",
    "          solver='liblinear', tol=0.0001, verbose=0, warm_start=False)\n",
    "\n",
    "logreg_ch.fit(X_train_ch,y_train_ch)"
   ]
  },
  {
   "cell_type": "code",
   "execution_count": 90,
   "metadata": {},
   "outputs": [
    {
     "name": "stdout",
     "output_type": "stream",
     "text": [
      "[[3242 1742]\n",
      " [ 761 1457]]\n",
      "             precision    recall  f1-score   support\n",
      "\n",
      "        0.0       0.81      0.65      0.72      4984\n",
      "        1.0       0.46      0.66      0.54      2218\n",
      "\n",
      "avg / total       0.70      0.65      0.66      7202\n",
      "\n",
      "Tuned Logistic Regression R squared: 0.6524576506525965\n",
      "AUC: 0.7043183814898387\n",
      "Youden's J Statistic: 0.5154524278197855\n"
     ]
    }
   ],
   "source": [
    "y_pred_log_ch = logreg_ch.predict(X_val_ch)\n",
    "r2_log_ch = logreg_ch.score(X_val_ch, y_val_ch)\n",
    "y_pred_log_prob_ch = logreg_ch.predict_proba(X_val_ch)[:,1]\n",
    "print(confusion_matrix(y_val_ch,y_pred_log_ch))\n",
    "print(classification_report(y_val_ch,y_pred_log_ch))\n",
    "print(\"Tuned Logistic Regression R squared: {}\".format(r2_log_ch))\n",
    "\n",
    "fpr_log_ch, tpr_log_ch, thresholds_ch = roc_curve(y_val_ch, y_pred_log_prob_ch)\n",
    "roc_auc_log_ch = roc_auc_score(y_val_ch, y_pred_log_prob_ch)\n",
    "print(\"AUC: {}\".format(roc_auc_log_ch))\n",
    "\n",
    "optimal_idx_log_ch = np.argmax(np.abs(tpr_log_ch - fpr_log_ch))\n",
    "optimal_threshold_log_ch = thresholds_ch[optimal_idx_log_ch]\n",
    "\n",
    "print(\"Youden's J Statistic: {}\".format(optimal_threshold_log_ch))"
   ]
  },
  {
   "cell_type": "code",
   "execution_count": 91,
   "metadata": {},
   "outputs": [
    {
     "data": {
      "text/plain": [
       "LogisticRegression(C=1.0, class_weight='balanced', dual=False,\n",
       "          fit_intercept=True, intercept_scaling=1, max_iter=100,\n",
       "          multi_class='ovr', n_jobs=-1, penalty='l2', random_state=None,\n",
       "          solver='liblinear', tol=0.0001, verbose=0, warm_start=False)"
      ]
     },
     "execution_count": 91,
     "metadata": {},
     "output_type": "execute_result"
    }
   ],
   "source": [
    "logreg_fc = LogisticRegression(C=1.0, class_weight='balanced', dual=False,\n",
    "          fit_intercept=True, intercept_scaling=1, max_iter=100,\n",
    "          multi_class='ovr', n_jobs=-1, penalty='l2', random_state=None,\n",
    "          solver='liblinear', tol=0.0001, verbose=0, warm_start=False)\n",
    "\n",
    "logreg_fc.fit(X_train_fc,y_train_fc)"
   ]
  },
  {
   "cell_type": "code",
   "execution_count": 92,
   "metadata": {},
   "outputs": [
    {
     "name": "stdout",
     "output_type": "stream",
     "text": [
      "[[1151  689]\n",
      " [ 258  361]]\n",
      "             precision    recall  f1-score   support\n",
      "\n",
      "        0.0       0.82      0.63      0.71      1840\n",
      "        1.0       0.34      0.58      0.43       619\n",
      "\n",
      "avg / total       0.70      0.61      0.64      2459\n",
      "\n",
      "Tuned Logistic Regression R squared: 0.6148840992273282\n",
      "AUC: 0.6264249841961087\n",
      "Youden's J Statistic: 0.5655747600562959\n"
     ]
    }
   ],
   "source": [
    "y_pred_log_fc = logreg_fc.predict(X_val_fc)\n",
    "r2_log_fc = logreg_fc.score(X_val_fc, y_val_fc)\n",
    "y_pred_log_prob_fc = logreg_fc.predict_proba(X_val_fc)[:,1]\n",
    "print(confusion_matrix(y_val_fc,y_pred_log_fc))\n",
    "print(classification_report(y_val_fc,y_pred_log_fc))\n",
    "print(\"Tuned Logistic Regression R squared: {}\".format(r2_log_fc))\n",
    "\n",
    "fpr_log_fc, tpr_log_fc, thresholds_fc = roc_curve(y_val_fc, y_pred_log_prob_fc)\n",
    "roc_auc_log_fc = roc_auc_score(y_val_fc, y_pred_log_prob_fc)\n",
    "print(\"AUC: {}\".format(roc_auc_log_fc))\n",
    "\n",
    "optimal_idx_log_fc = np.argmax(np.abs(tpr_log_fc - fpr_log_fc))\n",
    "optimal_threshold_log_fc = thresholds_fc[optimal_idx_log_fc]\n",
    "\n",
    "print(\"Youden's J Statistic: {}\".format(optimal_threshold_log_fc))"
   ]
  },
  {
   "cell_type": "code",
   "execution_count": 93,
   "metadata": {},
   "outputs": [
    {
     "data": {
      "text/plain": [
       "LogisticRegression(C=10000.0, class_weight='balanced', dual=False,\n",
       "          fit_intercept=True, intercept_scaling=1, max_iter=100,\n",
       "          multi_class='ovr', n_jobs=-1, penalty='l2', random_state=None,\n",
       "          solver='liblinear', tol=0.0001, verbose=0, warm_start=False)"
      ]
     },
     "execution_count": 93,
     "metadata": {},
     "output_type": "execute_result"
    }
   ],
   "source": [
    "logreg_fs = LogisticRegression(C=10000.0, class_weight='balanced', dual=False,\n",
    "          fit_intercept=True, intercept_scaling=1, max_iter=100,\n",
    "          multi_class='ovr', n_jobs=-1, penalty='l2', random_state=None,\n",
    "          solver='liblinear', tol=0.0001, verbose=0, warm_start=False)\n",
    "\n",
    "logreg_fs.fit(X_train_fs,y_train_fs)"
   ]
  },
  {
   "cell_type": "code",
   "execution_count": 94,
   "metadata": {},
   "outputs": [
    {
     "name": "stdout",
     "output_type": "stream",
     "text": [
      "[[425 179]\n",
      " [108 235]]\n",
      "             precision    recall  f1-score   support\n",
      "\n",
      "        0.0       0.80      0.70      0.75       604\n",
      "        1.0       0.57      0.69      0.62       343\n",
      "\n",
      "avg / total       0.71      0.70      0.70       947\n",
      "\n",
      "Tuned Logistic Regression R squared: 0.6969376979936642\n",
      "AUC: 0.7696696464773233\n",
      "Youden's J Statistic: 0.5389021483399719\n"
     ]
    }
   ],
   "source": [
    "y_pred_log_fs = logreg_fs.predict(X_val_fs)\n",
    "r2_log_fs = logreg_fs.score(X_val_fs, y_val_fs)\n",
    "y_pred_log_prob_fs = logreg_fs.predict_proba(X_val_fs)[:,1]\n",
    "print(confusion_matrix(y_val_fs,y_pred_log_fs))\n",
    "print(classification_report(y_val_fs,y_pred_log_fs))\n",
    "print(\"Tuned Logistic Regression R squared: {}\".format(r2_log_fs))\n",
    "\n",
    "fpr_log_fs, tpr_log_fs, thresholds_fs = roc_curve(y_val_fs, y_pred_log_prob_fs)\n",
    "roc_auc_log_fs = roc_auc_score(y_val_fs, y_pred_log_prob_fs)\n",
    "print(\"AUC: {}\".format(roc_auc_log_fs))\n",
    "\n",
    "optimal_idx_log_fs = np.argmax(np.abs(tpr_log_fs - fpr_log_fs))\n",
    "optimal_threshold_log_fs = thresholds_fs[optimal_idx_log_fs]\n",
    "\n",
    "print(\"Youden's J Statistic: {}\".format(optimal_threshold_log_fs))"
   ]
  },
  {
   "cell_type": "code",
   "execution_count": 93,
   "metadata": {},
   "outputs": [
    {
     "data": {
      "text/plain": [
       "RandomForestClassifier(bootstrap=True, class_weight='balanced',\n",
       "            criterion='gini', max_depth=None, max_features='auto',\n",
       "            max_leaf_nodes=None, min_impurity_decrease=0.0,\n",
       "            min_impurity_split=None, min_samples_leaf=4,\n",
       "            min_samples_split=5, min_weight_fraction_leaf=0.0,\n",
       "            n_estimators=300, n_jobs=-1, oob_score=False,\n",
       "            random_state=None, verbose=0, warm_start=False)"
      ]
     },
     "execution_count": 93,
     "metadata": {},
     "output_type": "execute_result"
    }
   ],
   "source": [
    "clf = RandomForestClassifier(bootstrap=True, class_weight='balanced',\n",
    "            criterion='gini', max_depth=None, max_features='auto',\n",
    "            max_leaf_nodes=None, min_impurity_decrease=0.0,\n",
    "            min_impurity_split=None, min_samples_leaf=4,\n",
    "            min_samples_split=5, min_weight_fraction_leaf=0.0,\n",
    "            n_estimators=300, n_jobs=-1, oob_score=False,\n",
    "            random_state=None, verbose=0, warm_start=False)\n",
    "\n",
    "clf.fit(X_train,y_train)"
   ]
  },
  {
   "cell_type": "code",
   "execution_count": 96,
   "metadata": {},
   "outputs": [
    {
     "name": "stdout",
     "output_type": "stream",
     "text": [
      "[[33154  3599]\n",
      " [ 7740  5386]]\n",
      "             precision    recall  f1-score   support\n",
      "\n",
      "        0.0       0.81      0.90      0.85     36753\n",
      "        1.0       0.60      0.41      0.49     13126\n",
      "\n",
      "avg / total       0.76      0.77      0.76     49879\n",
      "\n",
      "Tuned Random Forest R squared: 0.7726698610637743\n",
      "AUC: 0.7521832589162092\n",
      "Youden's J Statistic: 0.35824879362907525\n",
      "Variable: pz_corr_new Importance: 0.19\n",
      "Variable: px_corr_new Importance: 0.08\n",
      "Variable: vz0_corr Importance: 0.07\n",
      "Variable: pfx_z_corr Importance: 0.06\n",
      "Variable: az_corr Importance: 0.06\n",
      "Variable: start_speed_corr Importance: 0.05\n",
      "Variable: pfx_x_corr Importance: 0.05\n",
      "Variable: x0_corr Importance: 0.05\n",
      "Variable: z0_corr Importance: 0.05\n",
      "Variable: vx0_corr Importance: 0.05\n",
      "Variable: vy0_corr Importance: 0.05\n",
      "Variable: ax_corr Importance: 0.05\n",
      "Variable: ay_corr Importance: 0.05\n",
      "Variable: spin_rate Importance: 0.05\n",
      "Variable: top_zone Importance: 0.03\n",
      "Variable: elevation Importance: 0.03\n",
      "Variable: bot_zone Importance: 0.02\n",
      "Variable: stand Importance: 0.01\n",
      "Variable: y0_corr Importance: 0.0\n",
      "Variable: throws Importance: 0.0\n",
      "Variable: rockies_b Importance: 0.0\n"
     ]
    },
    {
     "data": {
      "text/plain": [
       "[None,\n",
       " None,\n",
       " None,\n",
       " None,\n",
       " None,\n",
       " None,\n",
       " None,\n",
       " None,\n",
       " None,\n",
       " None,\n",
       " None,\n",
       " None,\n",
       " None,\n",
       " None,\n",
       " None,\n",
       " None,\n",
       " None,\n",
       " None,\n",
       " None,\n",
       " None,\n",
       " None]"
      ]
     },
     "execution_count": 96,
     "metadata": {},
     "output_type": "execute_result"
    }
   ],
   "source": [
    "y_pred_clf = clf.predict(X_val)\n",
    "r2_clf = clf.score(X_val, y_val)\n",
    "y_pred_clf_prob = clf.predict_proba(X_val)[:,1]\n",
    "print(confusion_matrix(y_val,y_pred_clf))\n",
    "print(classification_report(y_val,y_pred_clf))\n",
    "print(\"Tuned Random Forest R squared: {}\".format(r2_clf))\n",
    "\n",
    "fpr_clf, tpr_clf, thresholds_clf = roc_curve(y_val, y_pred_clf_prob)\n",
    "roc_auc_clf = roc_auc_score(y_val, y_pred_clf_prob)\n",
    "print(\"AUC: {}\".format(roc_auc_clf))\n",
    "\n",
    "optimal_idx_clf = np.argmax(np.abs(tpr_clf - fpr_clf))\n",
    "optimal_threshold_clf = thresholds_clf[optimal_idx_clf]\n",
    "\n",
    "print(\"Youden's J Statistic: {}\".format(optimal_threshold_clf))\n",
    "\n",
    "importances = list(clf.feature_importances_)\n",
    "\n",
    "feature_importances = [(feature, round(importance, 2)) for feature, importance in zip(feature_list, importances)]\n",
    "\n",
    "feature_importances = sorted(feature_importances, key = lambda x: x[1], reverse = True)\n",
    "\n",
    "[print('Variable: {} Importance: {}'.format(*pair)) for pair in feature_importances]"
   ]
  },
  {
   "cell_type": "code",
   "execution_count": 97,
   "metadata": {},
   "outputs": [
    {
     "data": {
      "text/plain": [
       "RandomForestClassifier(bootstrap=True, class_weight='balanced',\n",
       "            criterion='gini', max_depth=None, max_features='auto',\n",
       "            max_leaf_nodes=None, min_impurity_decrease=0.0,\n",
       "            min_impurity_split=None, min_samples_leaf=4,\n",
       "            min_samples_split=10, min_weight_fraction_leaf=0.0,\n",
       "            n_estimators=300, n_jobs=-1, oob_score=False,\n",
       "            random_state=None, verbose=0, warm_start=False)"
      ]
     },
     "execution_count": 97,
     "metadata": {},
     "output_type": "execute_result"
    }
   ],
   "source": [
    "clf_fa = RandomForestClassifier(bootstrap=True, class_weight='balanced',\n",
    "            criterion='gini', max_depth=None, max_features='auto',\n",
    "            max_leaf_nodes=None, min_impurity_decrease=0.0,\n",
    "            min_impurity_split=None, min_samples_leaf=4,\n",
    "            min_samples_split=10, min_weight_fraction_leaf=0.0,\n",
    "            n_estimators=300, n_jobs=-1, oob_score=False,\n",
    "            random_state=None, verbose=0, warm_start=False)\n",
    "\n",
    "clf_fa.fit(X_train_fa,y_train_fa)"
   ]
  },
  {
   "cell_type": "code",
   "execution_count": 98,
   "metadata": {},
   "outputs": [
    {
     "name": "stdout",
     "output_type": "stream",
     "text": [
      "[[17821  1307]\n",
      " [ 3589  1124]]\n",
      "             precision    recall  f1-score   support\n",
      "\n",
      "        0.0       0.83      0.93      0.88     19128\n",
      "        1.0       0.46      0.24      0.31      4713\n",
      "\n",
      "avg / total       0.76      0.79      0.77     23841\n",
      "\n",
      "Tuned Random Forest R squared: 0.7946394865987165\n",
      "AUC: 0.7063096565086044\n",
      "Youden's J Statistic: 0.3030220437063557\n",
      "Variable: pz_corr_new Importance: 0.19\n",
      "Variable: px_corr_new Importance: 0.08\n",
      "Variable: vz0_corr Importance: 0.07\n",
      "Variable: pfx_z_corr Importance: 0.06\n",
      "Variable: az_corr Importance: 0.06\n",
      "Variable: start_speed_corr Importance: 0.05\n",
      "Variable: pfx_x_corr Importance: 0.05\n",
      "Variable: x0_corr Importance: 0.05\n",
      "Variable: z0_corr Importance: 0.05\n",
      "Variable: vx0_corr Importance: 0.05\n",
      "Variable: vy0_corr Importance: 0.05\n",
      "Variable: ax_corr Importance: 0.05\n",
      "Variable: ay_corr Importance: 0.05\n",
      "Variable: spin_rate Importance: 0.05\n",
      "Variable: top_zone Importance: 0.03\n",
      "Variable: elevation Importance: 0.03\n",
      "Variable: bot_zone Importance: 0.02\n",
      "Variable: stand Importance: 0.01\n",
      "Variable: y0_corr Importance: 0.0\n",
      "Variable: throws Importance: 0.0\n",
      "Variable: rockies_b Importance: 0.0\n"
     ]
    },
    {
     "data": {
      "text/plain": [
       "[None,\n",
       " None,\n",
       " None,\n",
       " None,\n",
       " None,\n",
       " None,\n",
       " None,\n",
       " None,\n",
       " None,\n",
       " None,\n",
       " None,\n",
       " None,\n",
       " None,\n",
       " None,\n",
       " None,\n",
       " None,\n",
       " None,\n",
       " None,\n",
       " None,\n",
       " None,\n",
       " None]"
      ]
     },
     "execution_count": 98,
     "metadata": {},
     "output_type": "execute_result"
    }
   ],
   "source": [
    "y_pred_clf_fa = clf_fa.predict(X_val_fa)\n",
    "r2_clf_fa = clf_fa.score(X_val_fa, y_val_fa)\n",
    "y_pred_clf_prob_fa = clf_fa.predict_proba(X_val_fa)[:,1]\n",
    "print(confusion_matrix(y_val_fa,y_pred_clf_fa))\n",
    "print(classification_report(y_val_fa,y_pred_clf_fa))\n",
    "print(\"Tuned Random Forest R squared: {}\".format(r2_clf_fa))\n",
    "\n",
    "fpr_clf_fa, tpr_clf_fa, thresholds_clf_fa = roc_curve(y_val_fa, y_pred_clf_prob_fa)\n",
    "roc_auc_clf_fa = roc_auc_score(y_val_fa, y_pred_clf_prob_fa)\n",
    "print(\"AUC: {}\".format(roc_auc_clf_fa))\n",
    "\n",
    "optimal_idx_clf_fa = np.argmax(np.abs(tpr_clf_fa - fpr_clf_fa))\n",
    "optimal_threshold_clf_fa = thresholds_clf_fa[optimal_idx_clf_fa]\n",
    "\n",
    "print(\"Youden's J Statistic: {}\".format(optimal_threshold_clf_fa))\n",
    "\n",
    "importances = list(clf.feature_importances_)\n",
    "\n",
    "feature_importances = [(feature, round(importance, 2)) for feature, importance in zip(feature_list, importances)]\n",
    "\n",
    "feature_importances = sorted(feature_importances, key = lambda x: x[1], reverse = True)\n",
    "\n",
    "[print('Variable: {} Importance: {}'.format(*pair)) for pair in feature_importances]"
   ]
  },
  {
   "cell_type": "code",
   "execution_count": 99,
   "metadata": {},
   "outputs": [
    {
     "data": {
      "text/plain": [
       "RandomForestClassifier(bootstrap=True, class_weight='balanced',\n",
       "            criterion='gini', max_depth=None, max_features='auto',\n",
       "            max_leaf_nodes=None, min_impurity_decrease=0.0,\n",
       "            min_impurity_split=None, min_samples_leaf=1,\n",
       "            min_samples_split=5, min_weight_fraction_leaf=0.0,\n",
       "            n_estimators=300, n_jobs=-1, oob_score=False,\n",
       "            random_state=None, verbose=0, warm_start=False)"
      ]
     },
     "execution_count": 99,
     "metadata": {},
     "output_type": "execute_result"
    }
   ],
   "source": [
    "clf_cu = RandomForestClassifier(bootstrap=True, class_weight='balanced',\n",
    "            criterion='gini', max_depth=None, max_features='auto',\n",
    "            max_leaf_nodes=None, min_impurity_decrease=0.0,\n",
    "            min_impurity_split=None, min_samples_leaf=1,\n",
    "            min_samples_split=5, min_weight_fraction_leaf=0.0,\n",
    "            n_estimators=300, n_jobs=-1, oob_score=False,\n",
    "            random_state=None, verbose=0, warm_start=False)\n",
    "\n",
    "clf_cu.fit(X_train_cu,y_train_cu)"
   ]
  },
  {
   "cell_type": "code",
   "execution_count": 100,
   "metadata": {},
   "outputs": [
    {
     "name": "stdout",
     "output_type": "stream",
     "text": [
      "[[3296  356]\n",
      " [ 829  893]]\n",
      "             precision    recall  f1-score   support\n",
      "\n",
      "        0.0       0.80      0.90      0.85      3652\n",
      "        1.0       0.71      0.52      0.60      1722\n",
      "\n",
      "avg / total       0.77      0.78      0.77      5374\n",
      "\n",
      "Tuned Random Forest R squared: 0.7794938593226647\n",
      "AUC: 0.8028188140588963\n",
      "Youden's J Statistic: 0.3739366364527404\n",
      "Variable: pz_corr_new Importance: 0.19\n",
      "Variable: px_corr_new Importance: 0.08\n",
      "Variable: vz0_corr Importance: 0.07\n",
      "Variable: pfx_z_corr Importance: 0.06\n",
      "Variable: az_corr Importance: 0.06\n",
      "Variable: start_speed_corr Importance: 0.05\n",
      "Variable: pfx_x_corr Importance: 0.05\n",
      "Variable: x0_corr Importance: 0.05\n",
      "Variable: z0_corr Importance: 0.05\n",
      "Variable: vx0_corr Importance: 0.05\n",
      "Variable: vy0_corr Importance: 0.05\n",
      "Variable: ax_corr Importance: 0.05\n",
      "Variable: ay_corr Importance: 0.05\n",
      "Variable: spin_rate Importance: 0.05\n",
      "Variable: top_zone Importance: 0.03\n",
      "Variable: elevation Importance: 0.03\n",
      "Variable: bot_zone Importance: 0.02\n",
      "Variable: stand Importance: 0.01\n",
      "Variable: y0_corr Importance: 0.0\n",
      "Variable: throws Importance: 0.0\n",
      "Variable: rockies_b Importance: 0.0\n"
     ]
    },
    {
     "data": {
      "text/plain": [
       "[None,\n",
       " None,\n",
       " None,\n",
       " None,\n",
       " None,\n",
       " None,\n",
       " None,\n",
       " None,\n",
       " None,\n",
       " None,\n",
       " None,\n",
       " None,\n",
       " None,\n",
       " None,\n",
       " None,\n",
       " None,\n",
       " None,\n",
       " None,\n",
       " None,\n",
       " None,\n",
       " None]"
      ]
     },
     "execution_count": 100,
     "metadata": {},
     "output_type": "execute_result"
    }
   ],
   "source": [
    "y_pred_clf_cu = clf_cu.predict(X_val_cu)\n",
    "r2_clf_cu = clf_cu.score(X_val_cu, y_val_cu)\n",
    "y_pred_clf_prob_cu = clf_cu.predict_proba(X_val_cu)[:,1]\n",
    "print(confusion_matrix(y_val_cu,y_pred_clf_cu))\n",
    "print(classification_report(y_val_cu,y_pred_clf_cu))\n",
    "print(\"Tuned Random Forest R squared: {}\".format(r2_clf_cu))\n",
    "\n",
    "fpr_clf_cu, tpr_clf_cu, thresholds_clf_cu = roc_curve(y_val_cu, y_pred_clf_prob_cu)\n",
    "roc_auc_clf_cu = roc_auc_score(y_val_cu, y_pred_clf_prob_cu)\n",
    "print(\"AUC: {}\".format(roc_auc_clf_cu))\n",
    "\n",
    "optimal_idx_clf_cu = np.argmax(np.abs(tpr_clf_cu - fpr_clf_cu))\n",
    "optimal_threshold_clf_cu = thresholds_clf_cu[optimal_idx_clf_cu]\n",
    "\n",
    "print(\"Youden's J Statistic: {}\".format(optimal_threshold_clf_cu))\n",
    "\n",
    "importances = list(clf.feature_importances_)\n",
    "\n",
    "feature_importances = [(feature, round(importance, 2)) for feature, importance in zip(feature_list, importances)]\n",
    "\n",
    "feature_importances = sorted(feature_importances, key = lambda x: x[1], reverse = True)\n",
    "\n",
    "[print('Variable: {} Importance: {}'.format(*pair)) for pair in feature_importances]"
   ]
  },
  {
   "cell_type": "code",
   "execution_count": 101,
   "metadata": {},
   "outputs": [
    {
     "data": {
      "text/plain": [
       "RandomForestClassifier(bootstrap=True, class_weight='balanced',\n",
       "            criterion='gini', max_depth=None, max_features='auto',\n",
       "            max_leaf_nodes=None, min_impurity_decrease=0.0,\n",
       "            min_impurity_split=None, min_samples_leaf=4,\n",
       "            min_samples_split=2, min_weight_fraction_leaf=0.0,\n",
       "            n_estimators=300, n_jobs=-1, oob_score=False,\n",
       "            random_state=None, verbose=0, warm_start=False)"
      ]
     },
     "execution_count": 101,
     "metadata": {},
     "output_type": "execute_result"
    }
   ],
   "source": [
    "clf_sl = RandomForestClassifier(bootstrap=True, class_weight='balanced',\n",
    "            criterion='gini', max_depth=None, max_features='auto',\n",
    "            max_leaf_nodes=None, min_impurity_decrease=0.0,\n",
    "            min_impurity_split=None, min_samples_leaf=4,\n",
    "            min_samples_split=2, min_weight_fraction_leaf=0.0,\n",
    "            n_estimators=300, n_jobs=-1, oob_score=False,\n",
    "            random_state=None, verbose=0, warm_start=False)\n",
    "\n",
    "clf_sl.fit(X_train_sl,y_train_sl)"
   ]
  },
  {
   "cell_type": "code",
   "execution_count": 102,
   "metadata": {},
   "outputs": [
    {
     "name": "stdout",
     "output_type": "stream",
     "text": [
      "[[5617  928]\n",
      " [1491 2020]]\n",
      "             precision    recall  f1-score   support\n",
      "\n",
      "        0.0       0.79      0.86      0.82      6545\n",
      "        1.0       0.69      0.58      0.63      3511\n",
      "\n",
      "avg / total       0.75      0.76      0.75     10056\n",
      "\n",
      "Tuned Random Forest R squared: 0.7594470962609388\n",
      "AUC: 0.7898388976781257\n",
      "Youden's J Statistic: 0.406936901542186\n",
      "Variable: pz_corr_new Importance: 0.19\n",
      "Variable: px_corr_new Importance: 0.08\n",
      "Variable: vz0_corr Importance: 0.07\n",
      "Variable: pfx_z_corr Importance: 0.06\n",
      "Variable: az_corr Importance: 0.06\n",
      "Variable: start_speed_corr Importance: 0.05\n",
      "Variable: pfx_x_corr Importance: 0.05\n",
      "Variable: x0_corr Importance: 0.05\n",
      "Variable: z0_corr Importance: 0.05\n",
      "Variable: vx0_corr Importance: 0.05\n",
      "Variable: vy0_corr Importance: 0.05\n",
      "Variable: ax_corr Importance: 0.05\n",
      "Variable: ay_corr Importance: 0.05\n",
      "Variable: spin_rate Importance: 0.05\n",
      "Variable: top_zone Importance: 0.03\n",
      "Variable: elevation Importance: 0.03\n",
      "Variable: bot_zone Importance: 0.02\n",
      "Variable: stand Importance: 0.01\n",
      "Variable: y0_corr Importance: 0.0\n",
      "Variable: throws Importance: 0.0\n",
      "Variable: rockies_b Importance: 0.0\n"
     ]
    },
    {
     "data": {
      "text/plain": [
       "[None,\n",
       " None,\n",
       " None,\n",
       " None,\n",
       " None,\n",
       " None,\n",
       " None,\n",
       " None,\n",
       " None,\n",
       " None,\n",
       " None,\n",
       " None,\n",
       " None,\n",
       " None,\n",
       " None,\n",
       " None,\n",
       " None,\n",
       " None,\n",
       " None,\n",
       " None,\n",
       " None]"
      ]
     },
     "execution_count": 102,
     "metadata": {},
     "output_type": "execute_result"
    }
   ],
   "source": [
    "y_pred_clf_sl = clf_sl.predict(X_val_sl)\n",
    "r2_clf_sl = clf_sl.score(X_val_sl, y_val_sl)\n",
    "y_pred_clf_prob_sl = clf_sl.predict_proba(X_val_sl)[:,1]\n",
    "print(confusion_matrix(y_val_sl,y_pred_clf_sl))\n",
    "print(classification_report(y_val_sl,y_pred_clf_sl))\n",
    "print(\"Tuned Random Forest R squared: {}\".format(r2_clf_sl))\n",
    "\n",
    "fpr_clf_sl, tpr_clf_sl, thresholds_clf_sl = roc_curve(y_val_sl, y_pred_clf_prob_sl)\n",
    "roc_auc_clf_sl = roc_auc_score(y_val_sl, y_pred_clf_prob_sl)\n",
    "print(\"AUC: {}\".format(roc_auc_clf_sl))\n",
    "\n",
    "optimal_idx_clf_sl = np.argmax(np.abs(tpr_clf_sl - fpr_clf_sl))\n",
    "optimal_threshold_clf_sl = thresholds_clf_sl[optimal_idx_clf_sl]\n",
    "\n",
    "print(\"Youden's J Statistic: {}\".format(optimal_threshold_clf_sl))\n",
    "\n",
    "importances = list(clf.feature_importances_)\n",
    "\n",
    "feature_importances = [(feature, round(importance, 2)) for feature, importance in zip(feature_list, importances)]\n",
    "\n",
    "feature_importances = sorted(feature_importances, key = lambda x: x[1], reverse = True)\n",
    "\n",
    "[print('Variable: {} Importance: {}'.format(*pair)) for pair in feature_importances]"
   ]
  },
  {
   "cell_type": "code",
   "execution_count": 74,
   "metadata": {},
   "outputs": [
    {
     "data": {
      "text/plain": [
       "RandomForestClassifier(bootstrap=True, class_weight='balanced',\n",
       "            criterion='gini', max_depth=None, max_features='auto',\n",
       "            max_leaf_nodes=None, min_impurity_decrease=0.0,\n",
       "            min_impurity_split=None, min_samples_leaf=4,\n",
       "            min_samples_split=10, min_weight_fraction_leaf=0.0,\n",
       "            n_estimators=300, n_jobs=-1, oob_score=False,\n",
       "            random_state=None, verbose=0, warm_start=False)"
      ]
     },
     "execution_count": 74,
     "metadata": {},
     "output_type": "execute_result"
    }
   ],
   "source": [
    "clf_ch = RandomForestClassifier(bootstrap=True, class_weight='balanced',\n",
    "            criterion='gini', max_depth=None, max_features='auto',\n",
    "            max_leaf_nodes=None, min_impurity_decrease=0.0,\n",
    "            min_impurity_split=None, min_samples_leaf=4,\n",
    "            min_samples_split=10, min_weight_fraction_leaf=0.0,\n",
    "            n_estimators=300, n_jobs=-1, oob_score=False,\n",
    "            random_state=None, verbose=0, warm_start=False)\n",
    "\n",
    "clf_ch.fit(X_train_ch,y_train_ch)"
   ]
  },
  {
   "cell_type": "code",
   "execution_count": 75,
   "metadata": {},
   "outputs": [
    {
     "name": "stdout",
     "output_type": "stream",
     "text": [
      "[[4330  654]\n",
      " [1345  873]]\n",
      "             precision    recall  f1-score   support\n",
      "\n",
      "        0.0       0.76      0.87      0.81      4984\n",
      "        1.0       0.57      0.39      0.47      2218\n",
      "\n",
      "avg / total       0.70      0.72      0.71      7202\n",
      "\n",
      "Tuned Random Forest R squared: 0.7224382116078867\n",
      "AUC: 0.7046398791733186\n",
      "Youden's J Statistic: 0.37026916534565313\n"
     ]
    }
   ],
   "source": [
    "y_pred_clf_ch = clf_ch.predict(X_val_ch)\n",
    "r2_clf_ch = clf_ch.score(X_val_ch, y_val_ch)\n",
    "y_pred_clf_prob_ch = clf_ch.predict_proba(X_val_ch)[:,1]\n",
    "print(confusion_matrix(y_val_ch,y_pred_clf_ch))\n",
    "print(classification_report(y_val_ch,y_pred_clf_ch))\n",
    "print(\"Tuned Random Forest R squared: {}\".format(r2_clf_ch))\n",
    "\n",
    "fpr_clf_ch, tpr_clf_ch, thresholds_clf_ch = roc_curve(y_val_ch, y_pred_clf_prob_ch)\n",
    "roc_auc_clf_ch = roc_auc_score(y_val_ch, y_pred_clf_prob_ch)\n",
    "print(\"AUC: {}\".format(roc_auc_clf_ch))\n",
    "\n",
    "optimal_idx_clf_ch = np.argmax(np.abs(tpr_clf_ch - fpr_clf_ch))\n",
    "optimal_threshold_clf_ch = thresholds_clf_ch[optimal_idx_clf_ch]\n",
    "\n",
    "print(\"Youden's J Statistic: {}\".format(optimal_threshold_clf_ch))"
   ]
  },
  {
   "cell_type": "code",
   "execution_count": 76,
   "metadata": {},
   "outputs": [
    {
     "data": {
      "text/plain": [
       "RandomForestClassifier(bootstrap=True, class_weight='balanced',\n",
       "            criterion='gini', max_depth=None, max_features='auto',\n",
       "            max_leaf_nodes=None, min_impurity_decrease=0.0,\n",
       "            min_impurity_split=None, min_samples_leaf=2,\n",
       "            min_samples_split=2, min_weight_fraction_leaf=0.0,\n",
       "            n_estimators=300, n_jobs=-1, oob_score=False,\n",
       "            random_state=None, verbose=0, warm_start=False)"
      ]
     },
     "execution_count": 76,
     "metadata": {},
     "output_type": "execute_result"
    }
   ],
   "source": [
    "clf_fc = RandomForestClassifier(bootstrap=True, class_weight='balanced',\n",
    "            criterion='gini', max_depth=None, max_features='auto',\n",
    "            max_leaf_nodes=None, min_impurity_decrease=0.0,\n",
    "            min_impurity_split=None, min_samples_leaf=2,\n",
    "            min_samples_split=2, min_weight_fraction_leaf=0.0,\n",
    "            n_estimators=300, n_jobs=-1, oob_score=False,\n",
    "            random_state=None, verbose=0, warm_start=False)\n",
    "\n",
    "clf_fc.fit(X_train_fc,y_train_fc)"
   ]
  },
  {
   "cell_type": "code",
   "execution_count": 77,
   "metadata": {},
   "outputs": [
    {
     "name": "stdout",
     "output_type": "stream",
     "text": [
      "[[1722  118]\n",
      " [ 404  215]]\n",
      "             precision    recall  f1-score   support\n",
      "\n",
      "        0.0       0.81      0.94      0.87      1840\n",
      "        1.0       0.65      0.35      0.45       619\n",
      "\n",
      "avg / total       0.77      0.79      0.76      2459\n",
      "\n",
      "Tuned Random Forest R squared: 0.7877185847905652\n",
      "AUC: 0.7406862400786682\n",
      "Youden's J Statistic: 0.35016597744018463\n"
     ]
    }
   ],
   "source": [
    "y_pred_clf_fc = clf_fc.predict(X_val_fc)\n",
    "r2_clf_fc = clf_fc.score(X_val_fc, y_val_fc)\n",
    "y_pred_clf_prob_fc = clf_fc.predict_proba(X_val_fc)[:,1]\n",
    "print(confusion_matrix(y_val_fc,y_pred_clf_fc))\n",
    "print(classification_report(y_val_fc,y_pred_clf_fc))\n",
    "print(\"Tuned Random Forest R squared: {}\".format(r2_clf_fc))\n",
    "\n",
    "fpr_clf_fc, tpr_clf_fc, thresholds_clf_fc = roc_curve(y_val_fc, y_pred_clf_prob_fc)\n",
    "roc_auc_clf_fc = roc_auc_score(y_val_fc, y_pred_clf_prob_fc)\n",
    "print(\"AUC: {}\".format(roc_auc_clf_fc))\n",
    "\n",
    "optimal_idx_clf_fc = np.argmax(np.abs(tpr_clf_fc - fpr_clf_fc))\n",
    "optimal_threshold_clf_fc = thresholds_clf_fc[optimal_idx_clf_fc]\n",
    "\n",
    "print(\"Youden's J Statistic: {}\".format(optimal_threshold_clf_fc))"
   ]
  },
  {
   "cell_type": "code",
   "execution_count": 78,
   "metadata": {},
   "outputs": [
    {
     "data": {
      "text/plain": [
       "RandomForestClassifier(bootstrap=True, class_weight='balanced',\n",
       "            criterion='gini', max_depth=None, max_features='auto',\n",
       "            max_leaf_nodes=None, min_impurity_decrease=0.0,\n",
       "            min_impurity_split=None, min_samples_leaf=2,\n",
       "            min_samples_split=2, min_weight_fraction_leaf=0.0,\n",
       "            n_estimators=300, n_jobs=-1, oob_score=False,\n",
       "            random_state=None, verbose=0, warm_start=False)"
      ]
     },
     "execution_count": 78,
     "metadata": {},
     "output_type": "execute_result"
    }
   ],
   "source": [
    "clf_fs = RandomForestClassifier(bootstrap=True, class_weight='balanced',\n",
    "            criterion='gini', max_depth=None, max_features='auto',\n",
    "            max_leaf_nodes=None, min_impurity_decrease=0.0,\n",
    "            min_impurity_split=None, min_samples_leaf=2,\n",
    "            min_samples_split=2, min_weight_fraction_leaf=0.0,\n",
    "            n_estimators=300, n_jobs=-1, oob_score=False,\n",
    "            random_state=None, verbose=0, warm_start=False)\n",
    "\n",
    "clf_fs.fit(X_train_fs,y_train_fs)"
   ]
  },
  {
   "cell_type": "code",
   "execution_count": 79,
   "metadata": {},
   "outputs": [
    {
     "name": "stdout",
     "output_type": "stream",
     "text": [
      "[[513  91]\n",
      " [162 181]]\n",
      "             precision    recall  f1-score   support\n",
      "\n",
      "        0.0       0.76      0.85      0.80       604\n",
      "        1.0       0.67      0.53      0.59       343\n",
      "\n",
      "avg / total       0.73      0.73      0.72       947\n",
      "\n",
      "Tuned Random Forest R squared: 0.7328405491024287\n",
      "AUC: 0.7673237696213774\n",
      "Youden's J Statistic: 0.42954544135384065\n"
     ]
    }
   ],
   "source": [
    "y_pred_clf_fs = clf_fs.predict(X_val_fs)\n",
    "r2_clf_fs = clf_fs.score(X_val_fs, y_val_fs)\n",
    "y_pred_clf_prob_fs = clf_fs.predict_proba(X_val_fs)[:,1]\n",
    "print(confusion_matrix(y_val_fs,y_pred_clf_fs))\n",
    "print(classification_report(y_val_fs,y_pred_clf_fs))\n",
    "print(\"Tuned Random Forest R squared: {}\".format(r2_clf_fs))\n",
    "\n",
    "fpr_clf_fs, tpr_clf_fs, thresholds_clf_fs = roc_curve(y_val_fs, y_pred_clf_prob_fs)\n",
    "roc_auc_clf_fs = roc_auc_score(y_val_fs, y_pred_clf_prob_fs)\n",
    "print(\"AUC: {}\".format(roc_auc_clf_fs))\n",
    "\n",
    "optimal_idx_clf_fs = np.argmax(np.abs(tpr_clf_fs - fpr_clf_fs))\n",
    "optimal_threshold_clf_fs = thresholds_clf_fs[optimal_idx_clf_fs]\n",
    "\n",
    "print(\"Youden's J Statistic: {}\".format(optimal_threshold_clf_fs))"
   ]
  },
  {
   "cell_type": "code",
   "execution_count": null,
   "metadata": {},
   "outputs": [],
   "source": []
  }
 ],
 "metadata": {
  "kernelspec": {
   "display_name": "Python 3",
   "language": "python",
   "name": "python3"
  },
  "language_info": {
   "codemirror_mode": {
    "name": "ipython",
    "version": 3
   },
   "file_extension": ".py",
   "mimetype": "text/x-python",
   "name": "python",
   "nbconvert_exporter": "python",
   "pygments_lexer": "ipython3",
   "version": "3.7.0"
  }
 },
 "nbformat": 4,
 "nbformat_minor": 2
}
